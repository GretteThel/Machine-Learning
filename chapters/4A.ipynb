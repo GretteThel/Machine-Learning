{
  "cells": [
    {
      "cell_type": "markdown",
      "metadata": {
        "id": "rJ8vzqLV8N5t"
      },
      "source": [
        "[![Open In Colab](https://colab.research.google.com/assets/colab-badge.svg)](https://colab.research.google.com/github/Mayo-Radiology-Informatics-Lab/MIDeL/blob/main/chapters/4A.ipynb)"
      ]
    },
    {
      "cell_type": "markdown",
      "metadata": {
        "id": "b7xtxA1Q1ZEY"
      },
      "source": [
        "*Author: Bardia Khosravi, MD*"
      ]
    },
    {
      "cell_type": "markdown",
      "metadata": {
        "id": "aweR4SNYF2Zr"
      },
      "source": [
        "## **Fundementals of Programming**"
      ]
    },
    {
      "cell_type": "markdown",
      "metadata": {
        "id": "4bX-4O-wQ75U"
      },
      "source": [
        "# 1. **Introduction**"
      ]
    },
    {
      "cell_type": "markdown",
      "metadata": {
        "id": "mVf8nEJPSxpR"
      },
      "source": [
        "In order to utilize deep learning in a medical imaging project, there are three pre-requisites:\n",
        "\n",
        "1.   Representative data\n",
        "2.   *Programming skills* to code a model that can learn from the data\n",
        "3.   *Powerful hardware* that can speed up the learning process\n",
        "\n",
        "In this chapter, we will discuss how to circumvent the need for *advanced programming skills* and *powerful hardware* at the beginning of our journey. Needless to say, as you advance through these series you will get to use more advanced techniques and might need higher performance hardware.\n",
        "\n",
        "For this current series, we use Google's **Colab Notebook** as a means of content delivery method and a programming environment. Colab is a hosted coding environment that gives you free access to powerful hardware (Graphical Processing Unit or GPU) that is required to train most deep learning projects in reasonable times (and if complex enough, it still may not be adequate). If you have previously worked with *Jupyter Notebooks* or *IPython Notebooks* you are almost ready to work with Colab notebooks (from here on simply referred to as *notebooks*). If you are new to notebooks, we will cover the basics of them here.\n",
        "\n",
        "At this time, **Python** is the most popular programming language for deep learning. In this section, we assume you know the basics of Python programming and know how to work with some of its libraries such as *Pandas*, *Numpy*, and *Matplotlib*. Later in this section, we will do a quick overview of some of the necessary functionalities of Python and these libraries.\n",
        "\n",
        "Before jumping into the coding part, we should mention that all the libraries and frameworks we will use are open-source and are under active development. So it may be the case that some of the code in this section might not work as described by the time you read it. To prevent this, we strongly recommend that you use the following versions for each of the packages/libraries. But we also encourage you to experiment, as that is the best way to learn!\n",
        "\n",
        "Name | Version\n",
        "--- | ---\n",
        "Python | 3.8\n",
        "gdown | 3.13.0\n",
        "Pillow | 8.3.1\n",
        "Matplotlib | 3.4.3\n",
        "Numpy | 1.21.2\n",
        "Pandas | 0.25.0\n",
        "\n"
      ]
    },
    {
      "cell_type": "markdown",
      "metadata": {
        "id": "DhIDlTTim6dX"
      },
      "source": [
        "# 2. **Notebooks**"
      ]
    },
    {
      "cell_type": "markdown",
      "metadata": {
        "id": "W0eJ1M2YXu0q"
      },
      "source": [
        "## 2.1. **Basics of Colab**"
      ]
    },
    {
      "cell_type": "markdown",
      "metadata": {
        "id": "6grYbTCExM3j"
      },
      "source": [
        "Notebooks provide an easy-to-use Python coding environment. To create a new notebook, just head to [colab.research.google.com](https://colab.research.google.com) and click on the *New notebook* button, just like the image below. Note that you have to sign-in to your Google account to gain access and to save your work.\n",
        "\n",
        "<br><img src=\"https://i.ibb.co/Bncrd8N/Screen-Shot-2021-08-01-at-9-54-53-PM.png\" alt=\"Figure 1\" style='margin:auto' border=\"0\"><u><b>Figure 1.</b> Creating a new notebook in Colab environment</u><br><br>\n",
        "\n",
        "After doing this, an empty notebook will open up for you. Figure 2 demonstrates different sections of a notebook. By clicking on the title of the notebook, you can rename it. As you can see, notebooks have a *.ipynb* extension (which reflects its IPython NoteBook heritage) and can be opened with other notebook environments such as *Jupyter Notebooks*, *Visual Studio Code*, and *PyCharm*. In order to export your notebook to open it offline, on the toolbar, click on *File -> Download -> Download .ipynb*."
      ]
    },
    {
      "cell_type": "markdown",
      "metadata": {
        "id": "VbRbiRZ7l1_8"
      },
      "source": [
        "---\n",
        "\n",
        "\n",
        "> **Note**: To use the free powerful hardware provided by Google, just click on *Connect* in the accelerator button. You can change the type of accelerator (CPU, GPU, or TPU) using the same section, or from the top toolbar and *Runtime -> change runtime type* either now or later. The provided codes will run in CPU mode but usually is much slower. TPUs are special processors created by Google and can be faster than GPUs but typically require special code setup, which is not covered here. For that reason, you should generally select 'GPU' runtimes.\n",
        "\n",
        "\n",
        "---"
      ]
    },
    {
      "cell_type": "markdown",
      "metadata": {
        "id": "QdH4Yh87l0F1"
      },
      "source": [
        "<br><img src=\"https://i.ibb.co/z2Pj8Zq/Figure-2.png\" alt=\"Figure 2\" style='margin:auto' border=\"0\"><u><b>Figure 2.</b> Different sections of a notebook.</u><br><br>\n",
        "\n",
        "You can use the left sidebar to view the table of contents of your code and also browse your data from Google Drive or even upload it right away. Just bear in mind that if you close your notebook all the files you load to the colab server such as data files (**but not your notebook and those files on Google Drive**) will be deleted. It is recommended that you store your project's files on the Google Drive so you can access them all the time.\n",
        "\n",
        "In order to connect to your Google Drive, you can choose the *folder icon* on the left sidebar and select Google Drive, or you can run the following cell. Follow the onscreen URL, copy the personalized token, and paste it in the designated field, so that the notebook gains access to your files. Note that you can access publicly shared files using commands like `wget` or Google's special `gdown` command to transfer data from an internet server to the colab notebook. Throughout this series we will use these commands to get appropriate data into our notebooks."
      ]
    },
    {
      "cell_type": "code",
      "execution_count": null,
      "metadata": {
        "colab": {
          "base_uri": "https://localhost:8080/"
        },
        "id": "YH0z9752I3Li",
        "outputId": "f4b13d3d-884a-4174-e51f-f07769ba7fba"
      },
      "outputs": [
        {
          "name": "stdout",
          "output_type": "stream",
          "text": [
            "Mounted at /content/drive\n"
          ]
        }
      ],
      "source": [
        "from google.colab import drive\n",
        "\n",
        "drive.mount(\"/content/drive\")"
      ]
    },
    {
      "cell_type": "markdown",
      "metadata": {
        "id": "Z5al5T5qNBHI"
      },
      "source": [
        "Here you can see that your drive is attached (*mounted*) at */content/drive/MyDrive* on your colab computer. You can use the file sidebar to browse through your Google drive files. It is critical to understand at this point that you are accessing a computer running in Google's cloud servers, and that to access data, you can either transfer data to it, or *mount* a Google drive folder. The former will typically be faster to access, but the latter may be easier to access, and if you write results back to it, the latter will be visible in your Google Drive after you log out of your colab session."
      ]
    },
    {
      "cell_type": "markdown",
      "metadata": {
        "id": "TG-ghvWXNlru"
      },
      "source": [
        "---\n",
        "\n",
        "\n",
        "> **Exercise 1**: Select the '/content/' folder and find the 'sample_data' folder and rename it. See how you can upload a new file or copy the path of a folder for ease of use.\n",
        "\n",
        "\n",
        "---"
      ]
    },
    {
      "cell_type": "markdown",
      "metadata": {
        "id": "ZTSro2VPI3jS"
      },
      "source": [
        "Last but not least, the coding area of a **notebook** is comprised of blocks that are called *cells*. Notebooks have two types of cells: *code* cells and *text* cells (sometimes referred to as *markdown* cells).\n",
        "**Code cells** contain Python code. Code cells have a *play* button in the left upper corner that differentiates them visually from text cells (see Figure 2). Each code cell can be executed independently from others and the output is visualized individually. Furthermore, you can alter the code in a cell and run it again. The program state is saved all along, so all the variables that have been set in prior cells are valid for the current cell. This ability to run parts of a program is very useful for long programs, as you can debug your code as you write it and pinpoint any error as it happens."
      ]
    },
    {
      "cell_type": "markdown",
      "metadata": {
        "id": "0CMNdtdl0kh5"
      },
      "source": [
        "---\n",
        "\n",
        "\n",
        "> **Note**: If you change the value of a variable using code in that cell, and you re-run the cell, the variable's value will change and the variable is NOT restored to its value before you ran the current cell. Therefore you may want to have a code snippet that initializes values at the start of a cell, but if you alter a variable's previously calcualted value, you will get unreliable results. *Caveat Emptor!*\n",
        "\n",
        "\n",
        "---"
      ]
    },
    {
      "cell_type": "markdown",
      "metadata": {
        "id": "X4dukt7f0naV"
      },
      "source": [
        "**Text cells** are used for organizing and documenting your code. The text in these cells is written in markdown language and can be formatted to look more structured. This text that you are currently reading is actually written in a text cell. Just double-click here to see what is written in the cell. When you move your cursor between the cells, you see the option to add either of these cell types in that location. You can remove a cell by selecting it (i.e. clicking on it) and selecting the trash icon on the right side of it. Double-clicking it will open the cell for editing without having to click to select it and then click on the edit icon (the pencil).\n",
        "\n",
        "We also note here that the output of code from a cell is also included in a notebook if you run it and then save the output (e.g. as a PDF or HTML file). We typically do that here with our examples so you can see what the output should look like. However, as soon as you (re)run a cell, that output is overwritten."
      ]
    },
    {
      "cell_type": "markdown",
      "metadata": {
        "id": "rnHkweon5Uk2"
      },
      "source": [
        "---\n",
        "\n",
        "\n",
        "> **Note**: If you wish to edit an existing text cell, you need to double-click it, whereas you only need to single click a code cell to focus on it for editing.\n",
        "\n",
        "\n",
        "---"
      ]
    },
    {
      "cell_type": "markdown",
      "metadata": {
        "id": "SaCkZStNdeCZ"
      },
      "source": [
        "---\n",
        "\n",
        "\n",
        "> **Exercise 2**: Add a text block above this cell and type in your name in bold face (using the text editor options provided). Next add a code cell below the current cell and print out \"Hello world!\" using Python's `print` function by typing `print(\"Hello world!\")` and running the code cell.\n",
        "\n",
        "\n",
        "---"
      ]
    },
    {
      "cell_type": "markdown",
      "metadata": {
        "id": "xt6JtVpzf__2"
      },
      "source": [
        "Let's refresh our Python coding skills before diving into the deep learning code."
      ]
    },
    {
      "cell_type": "markdown",
      "metadata": {
        "id": "DUfkMsE2gVf0"
      },
      "source": [
        "## 2.1. **Python Review**"
      ]
    },
    {
      "cell_type": "markdown",
      "metadata": {
        "id": "OU-KUp939Q4k"
      },
      "source": [
        "The purpose of this section is to **review** some coding practices in Python. If you find the content of this section is beyond your knowledge, we recommend you pause and first go through a Python tutorial course or book. Refer to *Part 6* of this chapter for a list of recommended courses."
      ]
    },
    {
      "cell_type": "markdown",
      "metadata": {
        "id": "FoFaWqcZg0Sf"
      },
      "source": [
        "### 2.1.1. *Lists and Tuples*"
      ]
    },
    {
      "cell_type": "markdown",
      "metadata": {
        "id": "s3pxMvDPiNQc"
      },
      "source": [
        "Python lists are a collection of values that can be of any type. For example, one value can be a string another can be a float and another can be a custom object. Here are some examples of basic variable assignments using a few common data types:"
      ]
    },
    {
      "cell_type": "code",
      "execution_count": null,
      "metadata": {
        "id": "CPiIoUhVBaqS"
      },
      "outputs": [],
      "source": [
        "patient_age = 52  # integer\n",
        "modality = \"CT\"  # string\n",
        "slice_thickness = 0.5  # float"
      ]
    },
    {
      "cell_type": "markdown",
      "metadata": {
        "id": "TB8woX9NBX_j"
      },
      "source": [
        "You create a list by putting values between `[]` and separating them using a comma (`,`) like:"
      ]
    },
    {
      "cell_type": "code",
      "execution_count": null,
      "metadata": {
        "id": "xGRKcpXTf_Gh"
      },
      "outputs": [],
      "source": [
        "test_list = [52, \"Female\", \"CT\", \"Abdomen\"]"
      ]
    },
    {
      "cell_type": "markdown",
      "metadata": {
        "id": "0e4_E1EWltPp"
      },
      "source": [
        "Items of a list can be accessed using their *index*. Indexes start from zero, so to select \"Female\" from the `test_list`, you would use:"
      ]
    },
    {
      "cell_type": "code",
      "execution_count": null,
      "metadata": {
        "colab": {
          "base_uri": "https://localhost:8080/",
          "height": 35
        },
        "id": "k7_OynVfSwpT",
        "outputId": "d0be9bc3-2563-455b-8640-ba274563d22a"
      },
      "outputs": [
        {
          "data": {
            "application/vnd.google.colaboratory.intrinsic+json": {
              "type": "string"
            },
            "text/plain": [
              "'Female'"
            ]
          },
          "execution_count": 3,
          "metadata": {},
          "output_type": "execute_result"
        }
      ],
      "source": [
        "test_list[1]"
      ]
    },
    {
      "cell_type": "markdown",
      "metadata": {
        "id": "1KlLRPuno-n4"
      },
      "source": [
        "One feature of notebooks is that if you simply select a value like `test_list[1]`, it will print it out but only one time. In a traditional programming environment, this statement would do nothing, and you would have to use `print(test_list[1])` to print out the value.\n",
        "In addition to values from 0 up to the length of the list, we can use negative indices to index from the end of the list, in which case, `-1` corresponds to the last item of a list and it goes on:"
      ]
    },
    {
      "cell_type": "code",
      "execution_count": null,
      "metadata": {
        "colab": {
          "base_uri": "https://localhost:8080/",
          "height": 35
        },
        "id": "1hx7bYpqpKE5",
        "outputId": "c4b84971-af6a-4f00-f22e-a418c624f17f"
      },
      "outputs": [
        {
          "data": {
            "application/vnd.google.colaboratory.intrinsic+json": {
              "type": "string"
            },
            "text/plain": [
              "'Female'"
            ]
          },
          "execution_count": 4,
          "metadata": {},
          "output_type": "execute_result"
        }
      ],
      "source": [
        "test_list[-3]"
      ]
    },
    {
      "cell_type": "markdown",
      "metadata": {
        "id": "qLeB0b83os3k"
      },
      "source": [
        "You can access several items of a list at once using *slicing*. You specify the starting index (inclusive) and the end index (non-inclusive). For example, you can index `test_list`:"
      ]
    },
    {
      "cell_type": "code",
      "execution_count": null,
      "metadata": {
        "colab": {
          "base_uri": "https://localhost:8080/"
        },
        "id": "7qUJDxO8pcpm",
        "outputId": "f94dac07-859d-4f67-9ac3-aa5ab3d2edfd"
      },
      "outputs": [
        {
          "data": {
            "text/plain": [
              "['Female', 'CT']"
            ]
          },
          "execution_count": 5,
          "metadata": {},
          "output_type": "execute_result"
        }
      ],
      "source": [
        "test_list[1:-1]"
      ]
    },
    {
      "cell_type": "markdown",
      "metadata": {
        "id": "qhJiuaXFBHyd"
      },
      "source": [
        "You can also specify an interval to 'skip' between indices:"
      ]
    },
    {
      "cell_type": "code",
      "execution_count": null,
      "metadata": {
        "colab": {
          "base_uri": "https://localhost:8080/"
        },
        "id": "RmE29hf7BP2G",
        "outputId": "197521a5-a98f-41fb-b0b8-c7bb2fae6f48"
      },
      "outputs": [
        {
          "data": {
            "text/plain": [
              "[52, 'CT']"
            ]
          },
          "execution_count": 6,
          "metadata": {},
          "output_type": "execute_result"
        }
      ],
      "source": [
        "test_list[0:-1:2]  # or start=0, end=1, step=2"
      ]
    },
    {
      "cell_type": "markdown",
      "metadata": {
        "id": "DdkrYQYKBl2N"
      },
      "source": [
        "If you want to go through a list backwards, you need to use a negative skip value like this:"
      ]
    },
    {
      "cell_type": "code",
      "execution_count": null,
      "metadata": {
        "colab": {
          "base_uri": "https://localhost:8080/"
        },
        "id": "-QNT9Lg6BeJr",
        "outputId": "d3704e72-c7eb-4b47-cc6d-b9a4fb44505f"
      },
      "outputs": [
        {
          "data": {
            "text/plain": [
              "['Abdomen', 'CT']"
            ]
          },
          "execution_count": 7,
          "metadata": {},
          "output_type": "execute_result"
        }
      ],
      "source": [
        "test_list[-1:1:-1]"
      ]
    },
    {
      "cell_type": "markdown",
      "metadata": {
        "id": "hPvaqOSG1fn9"
      },
      "source": [
        "You don't have to specify `0` as the start or an end value. You can simply have no value before (or after) the `:` character. So to print out the first two values you can do that as follows:\n"
      ]
    },
    {
      "cell_type": "code",
      "execution_count": null,
      "metadata": {
        "colab": {
          "base_uri": "https://localhost:8080/"
        },
        "id": "QR6GYllY10Ov",
        "outputId": "3410e7cc-1cec-4a6e-9d9b-9688f2fe07a9"
      },
      "outputs": [
        {
          "data": {
            "text/plain": [
              "[52, 'Female']"
            ]
          },
          "execution_count": 8,
          "metadata": {},
          "output_type": "execute_result"
        }
      ],
      "source": [
        "test_list[:2]"
      ]
    },
    {
      "cell_type": "markdown",
      "metadata": {
        "id": "wuDzEaZm4xyX"
      },
      "source": [
        "Or if you want the last two values you can use:"
      ]
    },
    {
      "cell_type": "code",
      "execution_count": null,
      "metadata": {
        "colab": {
          "base_uri": "https://localhost:8080/"
        },
        "id": "1ibx711A17xO",
        "outputId": "dc735ca6-2e56-462e-8082-18f240b8c7d6"
      },
      "outputs": [
        {
          "data": {
            "text/plain": [
              "['CT', 'Abdomen']"
            ]
          },
          "execution_count": 9,
          "metadata": {},
          "output_type": "execute_result"
        }
      ],
      "source": [
        "test_list[-2:]  # or test_list[2:]"
      ]
    },
    {
      "cell_type": "markdown",
      "metadata": {
        "id": "TpjcpAxQpXc5"
      },
      "source": [
        "You can assign new values to each index of a list or you can add values to the end of it using the`.append()` method:"
      ]
    },
    {
      "cell_type": "code",
      "execution_count": null,
      "metadata": {
        "colab": {
          "base_uri": "https://localhost:8080/"
        },
        "id": "3s0zZwklokrs",
        "outputId": "33127ab6-a143-4b9a-e9fb-03af42d3b56e"
      },
      "outputs": [
        {
          "name": "stdout",
          "output_type": "stream",
          "text": [
            "New List Items: [52, 'Female', 'MRI', 'Abdomen', 0.5]\n",
            "New List Length: 5\n"
          ]
        }
      ],
      "source": [
        "test_list[2] = \"MRI\"  # replacing CT with MRI\n",
        "test_list.append(0.5)  # adding 0.5 at the end of a list\n",
        "\n",
        "print(\"New List Items:\", test_list)\n",
        "print(\"New List Length:\", len(test_list))"
      ]
    },
    {
      "cell_type": "markdown",
      "metadata": {
        "id": "o0-HQhuerMS9"
      },
      "source": [
        "You can also loop through a list using a `for` loop:"
      ]
    },
    {
      "cell_type": "code",
      "execution_count": null,
      "metadata": {
        "colab": {
          "base_uri": "https://localhost:8080/"
        },
        "id": "UWb9l4CDqaVk",
        "outputId": "6d7ffa07-2c4b-4d38-95f0-8b4a736e8e9b"
      },
      "outputs": [
        {
          "name": "stdout",
          "output_type": "stream",
          "text": [
            "52\n",
            "Female\n",
            "MRI\n",
            "Abdomen\n",
            "0.5\n"
          ]
        }
      ],
      "source": [
        "for item in test_list:\n",
        "    # note again you have to explicitly print values unless it is alone and in the last line\n",
        "    print(item)"
      ]
    },
    {
      "cell_type": "markdown",
      "metadata": {
        "id": "8F2uPlQnrj5g"
      },
      "source": [
        "Sometimes you need both the value of the item and its index. One could just set a counter variable to 0 at the start and increment it each loop, but Python has a quicker way: one can `enumerate` the list so you get both the index and value of each item, like:"
      ]
    },
    {
      "cell_type": "code",
      "execution_count": null,
      "metadata": {
        "colab": {
          "base_uri": "https://localhost:8080/"
        },
        "id": "kfyIhZsordaq",
        "outputId": "283d087d-f381-423d-ae6b-db1e1f8aaa86"
      },
      "outputs": [
        {
          "name": "stdout",
          "output_type": "stream",
          "text": [
            "index 0: 52\n",
            "index 1: Female\n",
            "index 2: MRI\n",
            "index 3: Abdomen\n",
            "index 4: 0.5\n",
            "\n",
            "And now the old way:\n",
            "index 0: 52\n",
            "index 1: Female\n",
            "index 2: MRI\n",
            "index 3: Abdomen\n",
            "index 4: 0.5\n"
          ]
        }
      ],
      "source": [
        "for index, value in enumerate(test_list):\n",
        "    print(f\"index {index}:\", value)\n",
        "\n",
        "print(\"\\nAnd now the old way:\")\n",
        "# compared to the old way:\n",
        "index = 0\n",
        "for item in test_list:\n",
        "    print(f\"index {index}:\", item)\n",
        "    # += is short hand way to add a value to a variable and is the same as index = index + 1\n",
        "    index += 1"
      ]
    },
    {
      "cell_type": "markdown",
      "metadata": {
        "id": "eSR4e1TqsIA5"
      },
      "source": [
        "Tuples are just like lists with one exception, they are immutable, which means that you can not change the values of its items. You can create tuples by putting `,` between the values. It is generally recommended though, to put the values between `()` just to make it clearer:"
      ]
    },
    {
      "cell_type": "code",
      "execution_count": null,
      "metadata": {
        "id": "9-6nhHFBr3vM"
      },
      "outputs": [],
      "source": [
        "test_tuple = 4, 8, 15, 16, 23, 42\n",
        "# or\n",
        "test_tuple = (4, 8, 15, 16, 23, 42)"
      ]
    },
    {
      "cell_type": "markdown",
      "metadata": {
        "id": "vlnnvc2bvXxH"
      },
      "source": [
        "One of the use cases for tuples is for returning values from a function. Actually the `index, value` in the `enumerate(test_list)` example, is a tuple. Here is another example:"
      ]
    },
    {
      "cell_type": "code",
      "execution_count": null,
      "metadata": {
        "id": "CAIsi6S0vV6a"
      },
      "outputs": [],
      "source": [
        "from datetime import datetime  # for getting date and time\n",
        "from typing import Tuple  # for type hinting in future functions\n",
        "\n",
        "\n",
        "def parse_date(date: datetime) -> Tuple[int, int, int]:\n",
        "    \"\"\"\n",
        "    This is a function that parses a date into integers of day, month and year.\n",
        "\n",
        "    Args:\n",
        "        date: A datetime object that needs to be parsed.\n",
        "\n",
        "    Returns:\n",
        "        A tuple of parsed day, month and year.\n",
        "    \"\"\"\n",
        "\n",
        "    day = date.day  # .day is a method of the date object (discussed later)\n",
        "    month = date.month  # .month is a method of the date object (discussed later)\n",
        "    year = date.year  # .year is a method of the date object (discussed later)\n",
        "\n",
        "    return day, month, year  # here we return a tuple of three integers\n",
        "\n",
        "\n",
        "now = datetime.now()  # date object (discussed later)\n",
        "today_day, today_month, today_year = parse_date(\n",
        "    now\n",
        ")  # here we store each item of the tuple in an item of another tuple"
      ]
    },
    {
      "cell_type": "markdown",
      "metadata": {
        "id": "nM_HNIpM5F-x"
      },
      "source": [
        "Note that `today_day, today_month, today_year` is itself a tuple of three items."
      ]
    },
    {
      "cell_type": "markdown",
      "metadata": {
        "id": "ceEO_O1W7q_r"
      },
      "source": [
        "One thing that might be new to you is *type hinting* which are the \":\" (colon character) in the parameter list and the \"->\" in the function declaration. This is a new feature of Python (as of version 3.8) and is valuable to help the computer help you reduce bugs. By specifying what the function should receive and return, the computer can hint as you write code what the types should be.\n",
        "For example, the `parse_date` function gets an input of type `datetime` (which we imported in this chapter's code cell) and returns a tuple made up of three integers (day, month, year)."
      ]
    },
    {
      "cell_type": "markdown",
      "metadata": {
        "id": "Chbe7JX-5PP_"
      },
      "source": [
        "---\n",
        "\n",
        "\n",
        "> **Practical Note**: Colab notebooks have the functionality to auto-complete your code, which can be very helpful. To use this function, go to a code cell and press the `alt/option` + `esc` keys of your keyboard to show its suggestions.\n",
        "\n",
        "---"
      ]
    },
    {
      "cell_type": "markdown",
      "metadata": {
        "id": "Y1E4Sp4q6Pz0"
      },
      "source": [
        "---\n",
        "\n",
        "\n",
        "> **Practical Note**: Colab notebooks can also show you the documentation  of each function, named *docstring*. To summon this guide, go inside the parentheses `()` of a function and press the `tab` key. You can test it with the `parse_date` function we just wrote above. Create a new code cell below this cell, and type `parse_date()` and go inside the parentheses and press the `tab` key.\n",
        " This does require that a docstring exist for the source code of that function. We will describe how to create docstrings, and some more capable editors (like PyCharm) will prompt you to create a docstring when you define a function.\n",
        "\n",
        "\n",
        "---"
      ]
    },
    {
      "cell_type": "markdown",
      "metadata": {
        "id": "e2Gq8-2i8uZf"
      },
      "source": [
        "### 2.1.2. *Dictionaries*"
      ]
    },
    {
      "cell_type": "markdown",
      "metadata": {
        "id": "Oewgb88q8yEk"
      },
      "source": [
        "Dictionaries, just like lists, are a collection of values with one important difference. With dictionaries, the indices are strings, called *keys*, rather than integers. Just like a dictionary that you might use for translations in which you look for the definition of a word, in a Python dictionary values are assigned to keys. You can create a dictionary by specifying key-value pairs within `{}`, like:"
      ]
    },
    {
      "cell_type": "code",
      "execution_count": null,
      "metadata": {
        "colab": {
          "base_uri": "https://localhost:8080/"
        },
        "id": "7ih7D_CQ4RE_",
        "outputId": "b681480a-215f-4278-894f-a0e5579d7a11"
      },
      "outputs": [
        {
          "name": "stdout",
          "output_type": "stream",
          "text": [
            "Patient Age: 52\n"
          ]
        }
      ],
      "source": [
        "test_dict = {\n",
        "    \"Patient Age\": 52,\n",
        "    \"Patient Sex\": \"Female\",\n",
        "    \"Modality\": \"CT\",\n",
        "    \"Body Part\": \"Abdomen\",\n",
        "    \"Slice Thickness\": 0.5,\n",
        "}\n",
        "\n",
        "print(\"Patient Age:\", test_dict[\"Patient Age\"])"
      ]
    },
    {
      "cell_type": "markdown",
      "metadata": {
        "id": "TV7BYuisC0vb"
      },
      "source": [
        "You can easily assign new key-value pairs or even update them:"
      ]
    },
    {
      "cell_type": "code",
      "execution_count": null,
      "metadata": {
        "colab": {
          "base_uri": "https://localhost:8080/"
        },
        "id": "1bQUE-TT4WpM",
        "outputId": "a63c0ddf-7074-43bc-e0e7-3d32be9892df"
      },
      "outputs": [
        {
          "name": "stdout",
          "output_type": "stream",
          "text": [
            "{'Patient Age': 52, 'Patient Sex': 'Female', 'Modality': 'MRI', 'Body Part': 'Abdomen', 'Slice Thickness': 0.5, 'Manufacturer': 'Siemens'}\n"
          ]
        }
      ],
      "source": [
        "test_dict[\"Modality\"] = \"MRI\"  # changed the \"Modality\" key to \"MRI\"\n",
        "test_dict[\"Manufacturer\"] = \"Siemens\"  # inserted a new key named \"Manufacturer\"\n",
        "\n",
        "print(test_dict)"
      ]
    },
    {
      "cell_type": "markdown",
      "metadata": {
        "id": "tKu7tV5O2jZb"
      },
      "source": [
        "You can loop through a dictionary based on its key values:"
      ]
    },
    {
      "cell_type": "code",
      "execution_count": null,
      "metadata": {
        "colab": {
          "base_uri": "https://localhost:8080/"
        },
        "id": "XRhGpEwX2jIu",
        "outputId": "ab7c394b-bb71-4381-d3a7-0deeab81997c"
      },
      "outputs": [
        {
          "name": "stdout",
          "output_type": "stream",
          "text": [
            "key 'Patient Age': 52\n",
            "key 'Patient Sex': Female\n",
            "key 'Modality': MRI\n",
            "key 'Body Part': Abdomen\n",
            "key 'Slice Thickness': 0.5\n",
            "key 'Manufacturer': Siemens\n"
          ]
        }
      ],
      "source": [
        "for key in test_dict:\n",
        "    print(f\"key '{key}':\", test_dict[key])"
      ]
    },
    {
      "cell_type": "markdown",
      "metadata": {
        "id": "xqhOm_Z0EbPe"
      },
      "source": [
        "Also, you can get all the values and keys and convert them to a list:"
      ]
    },
    {
      "cell_type": "code",
      "execution_count": null,
      "metadata": {
        "colab": {
          "base_uri": "https://localhost:8080/"
        },
        "id": "WUDxq6NuEv4v",
        "outputId": "a420b0cf-20ca-4b1d-8a27-9b0b9f7eeb12"
      },
      "outputs": [
        {
          "name": "stdout",
          "output_type": "stream",
          "text": [
            "keys: ['Patient Age', 'Patient Sex', 'Modality', 'Body Part', 'Slice Thickness', 'Manufacturer']\n",
            "values: [52, 'Female', 'MRI', 'Abdomen', 0.5, 'Siemens']\n"
          ]
        }
      ],
      "source": [
        "test_dict_keys = test_dict.keys()\n",
        "test_dict_values = test_dict.values()\n",
        "\n",
        "print(\"keys:\", list(test_dict_keys))\n",
        "print(\"values:\", list(test_dict_values))"
      ]
    },
    {
      "cell_type": "markdown",
      "metadata": {
        "id": "47bVpXQQ4vQC"
      },
      "source": [
        "Note that Python does not guarantee the order of entries in a dictionary. You must access them using keys and you cannot access them using numerical indices.\n"
      ]
    },
    {
      "cell_type": "markdown",
      "metadata": {
        "id": "zdFGrN0aTBO4"
      },
      "source": [
        "## 2.2. **Classes & Object Oriented Programming**"
      ]
    },
    {
      "cell_type": "markdown",
      "metadata": {
        "id": "H4t7cW-_TH4g"
      },
      "source": [
        "As part of the trend of object-oriented programming in python, we should know how to write **classes** and work with them. This will come in handy when working with PyTorch and MONAI.\n",
        "\n",
        "First, let's write a simple `StatMeter` class and then go through each line of the code to understand what is happening. A `StatMeter` is a simple class that can be used to calculate the running average and standard deviation of a series of numbers."
      ]
    },
    {
      "cell_type": "code",
      "execution_count": null,
      "metadata": {
        "id": "4fnwYZNXS_Wt"
      },
      "outputs": [],
      "source": [
        "import math  # for calculating square root of variance\n",
        "\n",
        "\n",
        "class StatMeter:\n",
        "    \"\"\"\n",
        "    A simple class to get the statistics of a series of numbers.\n",
        "    \"\"\"\n",
        "\n",
        "    def __init__(self, rounding_digits=2):\n",
        "        \"\"\"\n",
        "        Initialization function.\n",
        "\n",
        "        Args:\n",
        "            rounding_digits: number of digits that the result is rounded to.\n",
        "        \"\"\"\n",
        "        self.numbers = list()\n",
        "        self.rounding_digits = rounding_digits\n",
        "        self.mean = None\n",
        "        self.std = None\n",
        "\n",
        "    def add(self, number):\n",
        "        \"\"\"\n",
        "        Adds a number to the class radar and updates the values of the class based on the newly added number.\n",
        "\n",
        "        Args:\n",
        "            number: a new number to be tracked by the class.\n",
        "        \"\"\"\n",
        "        self.numbers.append(number)\n",
        "\n",
        "        self.update_mean()\n",
        "        self.update_std()\n",
        "\n",
        "    def update_mean(self):\n",
        "        \"\"\"\n",
        "        Calculate and update the mean of the numbers.\n",
        "        \"\"\"\n",
        "        numbers_count = len(self.numbers)\n",
        "        numbers_sum = sum(self.numbers)\n",
        "        mean = numbers_sum / numbers_count\n",
        "\n",
        "        self.mean = mean\n",
        "\n",
        "    def update_std(self):\n",
        "        \"\"\"\n",
        "        Calculate and update the standard deviation of the numbers.\n",
        "        \"\"\"\n",
        "        numbers_count = len(self.numbers)\n",
        "        mean_diff_sq_list = []\n",
        "        for number in self.numbers:\n",
        "            mean_diff_sq_list.append((number - self.mean) ** 2)\n",
        "\n",
        "        mean_sq_diff_sum = sum(mean_diff_sq_list)\n",
        "\n",
        "        variance = mean_sq_diff_sum / numbers_count\n",
        "        std = math.sqrt(variance)  # or we can variance**0.5\n",
        "\n",
        "        self.std = std\n",
        "\n",
        "    def print_stats(self):\n",
        "        \"\"\"\n",
        "        Prints the results based on the `rounding_digits` specified at initialization.\n",
        "        \"\"\"\n",
        "        print(\"Mean:\", round(self.mean, self.rounding_digits))\n",
        "        print(\"Std:\", round(self.std, self.rounding_digits))"
      ]
    },
    {
      "cell_type": "markdown",
      "metadata": {
        "id": "oVQAS4rPfmtr"
      },
      "source": [
        "In order to understand this class, let's walk through an example. Suppose that we want to calculate the mean and standard deviation of a group of 10,343 patients so that we can *normalize* it (more on normalization in future chapters). We generate these ages at random and use our `StatMeter` class to track these values."
      ]
    },
    {
      "cell_type": "code",
      "execution_count": null,
      "metadata": {
        "colab": {
          "base_uri": "https://localhost:8080/"
        },
        "id": "YnlFhtk_fWWC",
        "outputId": "f75538d3-b0db-4dfd-8b35-7545a7199e7e"
      },
      "outputs": [
        {
          "name": "stdout",
          "output_type": "stream",
          "text": [
            "Mean: 58.256\n",
            "Std: 23.632\n"
          ]
        }
      ],
      "source": [
        "import random  # for creating random numbers\n",
        "\n",
        "patient_ages = [\n",
        "    random.randint(18, 99) for _ in range(10343)\n",
        "]  # this will create a list of 10,343 random numbers between 18 and 99 (ages)\n",
        "\n",
        "age_meter = StatMeter(\n",
        "    rounding_digits=3\n",
        ")  # initialize an instance of StatMeter with the parameter rounding_digits set to 3\n",
        "\n",
        "for age in patient_ages:\n",
        "    age_meter.add(age)  # adding each age to the age_meter\n",
        "\n",
        "age_meter.print_stats()"
      ]
    },
    {
      "cell_type": "markdown",
      "metadata": {
        "id": "9xNK07d3mNqr"
      },
      "source": [
        "Seeing this example can help us better understand how a class works. First, we have to *initialize* an *instance* of a class. Each instance of a class, also called an object, is completely separate from other instances. For example, if we want to have another `StatMeter` for getting the statistics of the patients' blood pressure, we would have typed `bp_meter = StatMeter()`. This keeps the values of age and blood pressure separate, which is probably a good thing!\n",
        "\n",
        "When an instance is created (*instantiated* in computer-speak), Python calls the `__init__()` *method* (functions of a class are called methods) of that class. In our example, `__init__()` gets only one external value, `rounding_digits`. Note that class methods almost always get `self` as their first parameter (look at the `add()` and `update_mean()` methods). This `self` parameter gives you control over local variables of that class and passes these variables between methods. For example, `self.mean` or `self.rounding_digits` are local variables to our object."
      ]
    },
    {
      "cell_type": "markdown",
      "metadata": {
        "id": "seiYFzug-GC3"
      },
      "source": [
        "---\n",
        "\n",
        "\n",
        "> **Practical Note**: In the previous code cell, note the use of the square brackets (`[]`) to create the `patient_ages` list. This is called a *list comprehension* and is a quick and easy way to create a list using the code within the square brackets. In the above case, note also the use of '_' which essentially indicates that it is a throw-away variable (not used). So the code in the brackets will generate a list of 10,343 random values that are between 18 and 99.\n",
        "\n",
        "\n",
        "---"
      ]
    },
    {
      "cell_type": "markdown",
      "metadata": {
        "id": "uCH6iYVV-L-f"
      },
      "source": [
        "Let's check these internal variables of our class by replacing `self` with the name of the object:"
      ]
    },
    {
      "cell_type": "code",
      "execution_count": null,
      "metadata": {
        "colab": {
          "base_uri": "https://localhost:8080/"
        },
        "id": "yG4Bfnkms_AB",
        "outputId": "334879ca-d791-4517-e797-2afd660316ae"
      },
      "outputs": [
        {
          "name": "stdout",
          "output_type": "stream",
          "text": [
            "rounding_digits: 3\n",
            "mean: 58.25582519578459\n",
            "std: 23.631789604108814\n"
          ]
        }
      ],
      "source": [
        "print(\"rounding_digits:\", age_meter.rounding_digits)\n",
        "print(\"mean:\", age_meter.mean)\n",
        "print(\"std:\", age_meter.std)"
      ]
    },
    {
      "cell_type": "markdown",
      "metadata": {
        "id": "Uk5yELPXxKQ7"
      },
      "source": [
        "Next, we call the `add()` method. By inspecting the source code of the method, we see that it gets a number, in our case *age*, and adds it to the list of `numbers` of the object. Afterward, it calls the `update_mean()` and `update_std()` methods to update the mean and standard deviation of the numbers after each update. Note that the assumption is that a list already exists, so __init__ is necessary to create the list with no entries.\n",
        "\n",
        "Finally, we can call the `print_stats()` method to print our results with the `rounding_digits` specified when initializing the object."
      ]
    },
    {
      "cell_type": "markdown",
      "metadata": {
        "id": "3bhZMd0l8XFB"
      },
      "source": [
        "---\n",
        "\n",
        "\n",
        "> **Practical Note**: In the `StatMeter` class code, note the use of triple quotes (`\"\"\"`) after each method is defined. This is the start of the docstring, we discussed earlier. The first part describes the function, and subsequent parts describe each of the parameters that are supplied to it. This is how Python can provide hints about what a function does and what the parameters mean.\n",
        "\n",
        "\n",
        "---"
      ]
    },
    {
      "cell_type": "markdown",
      "metadata": {
        "id": "1EJJhsmyzO6a"
      },
      "source": [
        "---\n",
        "\n",
        "\n",
        "> **Exercise 3**: Add three new methods to the object so that it can also report the minimum, maximum, and median of the values. You can name them `update_min()`, `update_max()` and `update_median()`. Don't forget to update the `print_stats()` method accordingly. Also, add appropriate docstrings to your methods.\n",
        "\n",
        "\n",
        "---"
      ]
    },
    {
      "cell_type": "markdown",
      "metadata": {
        "id": "r2xAol2Y-XG-"
      },
      "source": [
        "To save an object in Python we can *pickle* it! Pickle is a special storage form that saves the local variables and structure of your object. Throughout this series, we will have situations in which we work on code in one chapter, pickle some objects, and load the pickled objects in another chapter to continue our work. This is how we pickle our `age_meter` object:"
      ]
    },
    {
      "cell_type": "code",
      "execution_count": null,
      "metadata": {
        "id": "T6wSTQ6x-TAo"
      },
      "outputs": [],
      "source": [
        "import pickle  # for pickling our object\n",
        "\n",
        "with open(r\"age_meter.pickle\", \"wb\") as output_file:\n",
        "    pickle.dump(age_meter, output_file)"
      ]
    },
    {
      "cell_type": "markdown",
      "metadata": {
        "id": "e7DVbtxeBwqJ"
      },
      "source": [
        "For loading an already saved pickle, we can do the following:"
      ]
    },
    {
      "cell_type": "code",
      "execution_count": null,
      "metadata": {
        "id": "ryJfRjFpB92o"
      },
      "outputs": [],
      "source": [
        "import pickle  # for unpickling our object\n",
        "\n",
        "with open(r\"age_meter.pickle\", \"rb\") as input_file:\n",
        "    age_meter_copy = pickle.load(input_file)"
      ]
    },
    {
      "cell_type": "markdown",
      "metadata": {
        "id": "oSfsmXcLCUad"
      },
      "source": [
        "Just to make sure that the local variables are stored, let's check them and compare them with the unpickled versions:"
      ]
    },
    {
      "cell_type": "code",
      "execution_count": null,
      "metadata": {
        "colab": {
          "base_uri": "https://localhost:8080/"
        },
        "id": "0_q1ijj5CqNU",
        "outputId": "f174ee5a-d9ed-4587-a44f-bcb3b4e6ad1f"
      },
      "outputs": [
        {
          "name": "stdout",
          "output_type": "stream",
          "text": [
            "rounding_digits: 3\n",
            "mean: 58.25582519578459\n",
            "std: 23.631789604108814\n"
          ]
        }
      ],
      "source": [
        "print(\"rounding_digits:\", age_meter_copy.rounding_digits)\n",
        "print(\"mean:\", age_meter_copy.mean)\n",
        "print(\"std:\", age_meter_copy.std)"
      ]
    },
    {
      "cell_type": "markdown",
      "metadata": {
        "id": "YOy8rNuLC6UF"
      },
      "source": [
        "You see that they are the same! It's safe to say that we can use this method to transfer *knowledge* from chapter to chapter! A more subtle thing is that the loaded object knows not only its values but also its methods!"
      ]
    },
    {
      "cell_type": "markdown",
      "metadata": {
        "id": "efjmZ_vGDQV6"
      },
      "source": [
        "---\n",
        "\n",
        "\n",
        "> **Security Note**: Only load pickle files that you create and do not trust third-party sources. As we noted, they contain not only data but also methods and those methods can run malicious code while loading.\n",
        "\n",
        "\n",
        "\n",
        "---"
      ]
    },
    {
      "cell_type": "markdown",
      "metadata": {
        "id": "68lMhveL0WUu"
      },
      "source": [
        "# 3. **Local Notebooks**"
      ]
    },
    {
      "cell_type": "markdown",
      "metadata": {
        "id": "WCufWyFEQU74"
      },
      "source": [
        "So far, everything we have done was in the Colab environment. But what if we want to use our own computers and resources?\n",
        "\n",
        "Well, first let's go through the pros and cons of this decision. One big advantage that Colab provides is access to free accelerators such as GPUs and TPUs. We need this hardware for training our deep learning models on medical images. With this accelerator, we get a 20-100x speed boost in our training process compared to CPUs. On the other hand, using your local machine for creating the initial version of the code (apart from training your model) can be a wise choice and also means your data does not need to be loaded onto Google computers (which might be a security/privacy concern)."
      ]
    },
    {
      "cell_type": "markdown",
      "metadata": {
        "id": "BIYTbg5IEuNL"
      },
      "source": [
        "---\n",
        "\n",
        "\n",
        "> **Note**: If you want to continue this series in Colab, you can jump to *Part 4*.\n",
        "\n",
        "\n",
        "---"
      ]
    },
    {
      "cell_type": "markdown",
      "metadata": {
        "id": "hD3238NOEwK4"
      },
      "source": [
        "To run a notebook on your machine, you must install Python, Jupyter notebook, and several other *packages*. To facilitate this process we recommend using **Anaconda**, a program that automatically takes care of almost all of the steps for installing a notebook environment on your local machine, regardless of which operating system you are using. To install Anaconda, click on [this link](https://www.anaconda.com/products/individual-d) and download the latest available version for your operating system."
      ]
    },
    {
      "cell_type": "markdown",
      "metadata": {
        "id": "d755fghHTrN1"
      },
      "source": [
        "---\n",
        "\n",
        "\n",
        "> **Installation Note**: During the setup process, after selecting the destination folder, you will be asked whether to <u>*add anaconda to your PATH*</u>. Be sure to check this box, as this will make everything much easier during this series.\n",
        "\n",
        "\n",
        "\n",
        "---"
      ]
    },
    {
      "cell_type": "markdown",
      "metadata": {
        "id": "sUmvbbn7Wu7V"
      },
      "source": [
        "After installing Anaconda, it's time to start your notebook."
      ]
    },
    {
      "cell_type": "markdown",
      "metadata": {
        "id": "lFMsEtR-W6mo"
      },
      "source": [
        "## 3.1. **Starting Jupyter Notebook**"
      ]
    },
    {
      "cell_type": "markdown",
      "metadata": {
        "id": "yDMlTLksegL7"
      },
      "source": [
        "Jupyter notebook should already be installed on your machine. To start it all you need to do is open up **Terminal** (for macOS and Linux) or **Command Prompt** (for Windows). All you need to do now is to type `jupyter notebook` in the opened window!"
      ]
    },
    {
      "cell_type": "markdown",
      "metadata": {
        "id": "bgGTEc2OeheH"
      },
      "source": [
        "---\n",
        "\n",
        "\n",
        "> **Note**: If you have not added python to your path, you can search for **Anaconda Prompt** and use it for running your commands when working with Python.\n",
        "\n",
        "\n",
        "---"
      ]
    },
    {
      "cell_type": "markdown",
      "metadata": {
        "id": "9qUw9LwVXIdT"
      },
      "source": [
        "<br><img src=\"https://i.ibb.co/ZM8nWNf/Jupyter.jpg\" alt=\"Figure 3\" style='margin:auto' border=\"0\"><u><b>Figure 3.</b> Jupyter Notebook</u><br><br>\n",
        "\n",
        "Now your browser should open and show all of your root files listed. But as you see, the root directory is usually a very messy place that makes locating your files really difficult. You can navigate through the folders to find a familiar place, like your *Desktop*. Or, you can use your terminal/cmd prompt *(we will call both of them terminal from now on)* to change where to start your Jupyter notebook server.\n",
        "\n",
        "Let's create a folder on our desktop named *MIDeL*. To use this folder as the notebook's starting point, close your browser. Then open a new terminal window and type in `cd ` (note there is a space at the end). Now all you need to do is to drag and drop the *MIDEL* folder onto your terminal window and press *enter*. You should see the folder path being typed for you in the next line. All that is left is to type the `jupyter notebook` command in your terminal window and you can see the notebook starts in your intended folder.\n",
        "\n",
        "We will return to what `cd` means in *Part 5* of this chapter. So for now, just knowing that it stands for *change directory* will suffice."
      ]
    },
    {
      "cell_type": "markdown",
      "metadata": {
        "id": "rAQo1ckpgz0y"
      },
      "source": [
        "## 3.2. **Environments**"
      ]
    },
    {
      "cell_type": "markdown",
      "metadata": {
        "id": "VN3ZCdQOlVKB"
      },
      "source": [
        "As you might have guessed, there are quite a few packages that you need to install for your deep learning projects. Packages are a collection of python files that can be *imported* in your code. These packages have some functions and classes ready that you can use in your code without the need to code them yourself. The collection of packages make a library and a collection of libraries make a framework. There is a thin border between these entities so we won't bother with differentiating them. We will call them *packages* from here on.\n",
        "\n",
        "Each package might need other packages as a *dependency* to work correctly. You can imagine that things could easily get out of hand if there is a conflict between packages and ruin your work! To solve this problem, we use **environments**. Each environment is a separate collection of packages, where you can install packages and test them before moving into your *main* environment.\n",
        "\n",
        "To create a new environment, you need to open up a new terminal window and type in:\n",
        "\n",
        "```\n",
        "conda create --name MIDEL python=3.8\n",
        "```\n",
        "\n",
        "This will create a new environment named \"MIDEL\" with python version 3.8 already installed. Now you can switch to this new environment whenever you want just by typing `conda activate MIDEL` in your terminal. Hereafter, we will work in this MIDEL environment and install all the packages that we want in this environment. After switching to the MIDEL environment, you can see that the lines in your terminal start with `(MIDEL)`, like in **Figure 4**.\n",
        "\n",
        "<br><img src=\"https://i.ibb.co/dfM5jdY/MIDEL-Env.jpg\" alt=\"Figure 4\" style='margin:auto' border=\"0\"><u><b>Figure 4.</b> Activating MIDEL Environment</u><br><br>\n",
        "\n",
        "For a complete list of what you can do using Anaconda, we highly recommend that you check out the *Conda Cheatsheet* linked in *Part 6* of this chapter.\n",
        "\n",
        "Let's install the first package to our environment. Throughout this series, we will download a lot of files from Google Drive. Let's download a package to do things more automatically. To install packages, we can use `conda` itself or `pip`. Most of the packages we will work with are hosted on `pip`. You can go to [pypi.org](https://pypi.org) and search for a specific package if you want. But for now, we want to install `gdown` package that can facilitate file downloading from Google Drive. After switching to our **MIDEL environment**, we can type the following command:\n",
        "\n",
        "```\n",
        "pip install gdown==3.13.0\n",
        "```\n",
        "\n",
        "This command installs version `3.13.0` of the `gdown` package. We will use this package further down the road.\n",
        "\n",
        "We will continue this chapter by installing Pillow, Numpy, and Pandas, three useful packages that will definitely come in handy during your deep learning projects!\n",
        "\n"
      ]
    },
    {
      "cell_type": "markdown",
      "metadata": {
        "id": "eAG5Wm-0cvwM"
      },
      "source": [
        "# 4. **Other Python Packages**"
      ]
    },
    {
      "cell_type": "markdown",
      "metadata": {
        "id": "iY6eYZktim0u"
      },
      "source": [
        "## 4.1. **Visualizing Images**"
      ]
    },
    {
      "cell_type": "markdown",
      "metadata": {
        "id": "wNHmKKRTH6nj"
      },
      "source": [
        "As you are reading this series, we will be opening images and working with them. So to start, let's download a simple image and open it with python! Before we start, we need to install two packages:\n",
        "\n",
        "1.   Pillow: a package for opening images and manipulating them\n",
        "2.   Matplotlib: a package for plotting different charts and viewing images\n",
        "\n",
        "To install these packages you need to install them in your **MIDEL environment** by typing the following command in your terminal:\n",
        "\n",
        "```\n",
        "pip install pillow==8.3.1 matplotlib==3.4.3\n",
        "```\n",
        "\n",
        "This will install the intended versions of the mentioned libraries."
      ]
    },
    {
      "cell_type": "markdown",
      "metadata": {
        "id": "AzAbWAviNfJx"
      },
      "source": [
        "---\n",
        "\n",
        "\n",
        "> **Note**: If you are viewing this chapter in Colab, these packages are already installed and you can skip the preceding line.\n",
        "\n",
        "\n",
        "---"
      ]
    },
    {
      "cell_type": "markdown",
      "metadata": {
        "id": "t3QIQlLoNgOR"
      },
      "source": [
        "Now let's open a file with pillow. First we have to download the image:"
      ]
    },
    {
      "cell_type": "code",
      "execution_count": null,
      "metadata": {
        "colab": {
          "base_uri": "https://localhost:8080/",
          "height": 35
        },
        "id": "fOE7H-fabV6u",
        "outputId": "b2ca77cc-48a3-408e-c740-4bfb57df6025"
      },
      "outputs": [
        {
          "data": {
            "application/vnd.google.colaboratory.intrinsic+json": {
              "type": "string"
            },
            "text/plain": [
              "'sample_cxr.jpg'"
            ]
          },
          "execution_count": 25,
          "metadata": {},
          "output_type": "execute_result"
        }
      ],
      "source": [
        "import gdown  # for downloading files from google drive\n",
        "\n",
        "image_url = (\n",
        "    \"https://drive.google.com/uc?export=download&confirm=pbef&id=1rwHa73dLA7mFhjbP01nGx9pK8sX9T8jH\"\n",
        ")\n",
        "image_name = \"sample_cxr.jpg\"\n",
        "gdown.download(image_url, image_name, quiet=True)"
      ]
    },
    {
      "cell_type": "markdown",
      "metadata": {
        "id": "QAerND6Zc2yU"
      },
      "source": [
        "Now the image should be saved in your local machine or Colab file system (in the *'content'* folder). Now let's view this image:\n"
      ]
    },
    {
      "cell_type": "code",
      "execution_count": null,
      "metadata": {
        "colab": {
          "base_uri": "https://localhost:8080/",
          "height": 269
        },
        "id": "ZP_GuvI6cynd",
        "outputId": "2c1772e3-b32c-405d-b684-5820ff336beb"
      },
      "outputs": [
        {
          "data": {
            "image/png": "[encoded data removed]",
            "text/plain": [
              "<Figure size 432x288 with 1 Axes>"
            ]
          },
          "metadata": {
            "needs_background": "light"
          },
          "output_type": "display_data"
        }
      ],
      "source": [
        "from PIL import (\n",
        "    Image,\n",
        ")  # PIL is the package name for pillow and Image is the main module for image handling\n",
        "import matplotlib.pyplot as plt  # for visualizing images\n",
        "\n",
        "image_file = Image.open(image_name)\n",
        "plt.imshow(image_file);"
      ]
    },
    {
      "cell_type": "markdown",
      "metadata": {
        "id": "aHAhLIQIeWtc"
      },
      "source": [
        "You see a nice image of a chest x-ray ([source](https://radiopaedia.org)) with a resolution of 1024 by 1024 pixels. Now we can resize this image to 512*512px:"
      ]
    },
    {
      "cell_type": "code",
      "execution_count": null,
      "metadata": {
        "colab": {
          "base_uri": "https://localhost:8080/",
          "height": 269
        },
        "id": "Rzg6IbxifCYl",
        "outputId": "c9e6900f-5650-4e1f-b73f-615497a718cd"
      },
      "outputs": [
        {
          "data": {
            "image/png": "[encoded data removed]",
            "text/plain": [
              "<Figure size 432x288 with 1 Axes>"
            ]
          },
          "metadata": {
            "needs_background": "light"
          },
          "output_type": "display_data"
        }
      ],
      "source": [
        "image_file_small = image_file.resize(\n",
        "    (512, 512)\n",
        ")  # We pass the desired width and height of the new image, respectively, as a tuple\n",
        "plt.imshow(image_file_small);"
      ]
    },
    {
      "cell_type": "markdown",
      "metadata": {
        "id": "FDbX1WMegJ5m"
      },
      "source": [
        "We can save this resized version using the following line of code. We can even change the extension from *jpg* to *png*."
      ]
    },
    {
      "cell_type": "code",
      "execution_count": null,
      "metadata": {
        "id": "1BczPJCkgY4m"
      },
      "outputs": [],
      "source": [
        "image_file_small.save(\"sample_image_small.png\")"
      ]
    },
    {
      "cell_type": "markdown",
      "metadata": {
        "id": "32vGTBZYiftS"
      },
      "source": [
        "Let's move on to using Numpy!"
      ]
    },
    {
      "cell_type": "markdown",
      "metadata": {
        "id": "JvKu4Mdmi9OX"
      },
      "source": [
        "## 4.2. **Working with Arrays**"
      ]
    },
    {
      "cell_type": "markdown",
      "metadata": {
        "id": "kK10mmpPdX2U"
      },
      "source": [
        "Numpy (short for numeric python) is a package for doing multi-dimensional computations in python. In the context of computer vision, images and videos are regarded as multi-dimensional data. Numpy works with a special type of data that is called *array*. Arrays are like Python lists with two main differences:\n",
        "\n",
        "1.   All members of an array must be of the same type (integer, float, boolean)\n",
        "2.   Members of an array can themselves be an array but they need to have the same size as each other.\n",
        "\n",
        "Numpy is highly optimized for numerical computations and can be 10-100 times faster than using python's native alternatives. To start working with Numpy, let's first install Numpy in our environment:\n",
        "\n",
        "```\n",
        "pip install numpy==1.21.2\n",
        "```"
      ]
    },
    {
      "cell_type": "markdown",
      "metadata": {
        "id": "E8OaMBe6l2if"
      },
      "source": [
        "---\n",
        "\n",
        "\n",
        "> **Note**: If you are viewing this chapter in Colab, these packages are already installed and you can skip the preceding line.\n",
        "\n",
        "\n",
        "---"
      ]
    },
    {
      "cell_type": "markdown",
      "metadata": {
        "id": "gBnaUFa3mlSX"
      },
      "source": [
        "Let's create an array from a simple Python list:"
      ]
    },
    {
      "cell_type": "code",
      "execution_count": null,
      "metadata": {
        "colab": {
          "base_uri": "https://localhost:8080/"
        },
        "id": "XnFRMta60VIH",
        "outputId": "34a950b4-70c6-457b-8fe9-2a7611e7e9ef"
      },
      "outputs": [
        {
          "name": "stdout",
          "output_type": "stream",
          "text": [
            "[ 4  8 15 16 23 42]\n"
          ]
        }
      ],
      "source": [
        "import numpy as np  # by convention we import numpy as np\n",
        "\n",
        "demo_array = np.array([4, 8, 15, 16, 23, 42])\n",
        "print(demo_array)"
      ]
    },
    {
      "cell_type": "markdown",
      "metadata": {
        "id": "QWMkqyZYnJzu"
      },
      "source": [
        "You can see there is not much difference. We can get the shape of this array by getting its *shape* attribute or we can slice it just like we did with the list:"
      ]
    },
    {
      "cell_type": "code",
      "execution_count": null,
      "metadata": {
        "colab": {
          "base_uri": "https://localhost:8080/"
        },
        "id": "CpbeabccnXTH",
        "outputId": "ad565d9f-5831-415a-83e7-0ed248d70a90"
      },
      "outputs": [
        {
          "name": "stdout",
          "output_type": "stream",
          "text": [
            "Original array size: (6,)\n",
            "Sliced array: [15 16 23]\n",
            "Sliced array size: (3,)\n"
          ]
        }
      ],
      "source": [
        "print(\"Original array size:\", demo_array.shape)\n",
        "print(\"Sliced array:\", demo_array[2:-1])\n",
        "print(\"Sliced array size:\", demo_array[2:-1].shape)"
      ]
    },
    {
      "cell_type": "markdown",
      "metadata": {
        "id": "fDBuXh8awX5A"
      },
      "source": [
        "Note that *shape* is a tuple that denotes the number of elements in each dimension. So you can get the number of dimensions by multiplying the elements in the shape tuple."
      ]
    },
    {
      "cell_type": "code",
      "execution_count": null,
      "metadata": {
        "colab": {
          "base_uri": "https://localhost:8080/"
        },
        "id": "6eFKb7rAwWqS",
        "outputId": "ea111e6e-6829-40fa-b3d1-5e5f4b1a8243"
      },
      "outputs": [
        {
          "name": "stdout",
          "output_type": "stream",
          "text": [
            "Number of dimensions: 1\n"
          ]
        }
      ],
      "source": [
        "print(\"Number of dimensions:\", len(demo_array.shape))"
      ]
    },
    {
      "cell_type": "markdown",
      "metadata": {
        "id": "XEW1qA7bnskn"
      },
      "source": [
        "Let's see how images can be thought of as a multi-dimensional array!"
      ]
    },
    {
      "cell_type": "code",
      "execution_count": null,
      "metadata": {
        "colab": {
          "base_uri": "https://localhost:8080/"
        },
        "id": "vS3bv_bUwKTA",
        "outputId": "db1e2fcb-5710-4a48-9d73-713aabe44fa8"
      },
      "outputs": [
        {
          "name": "stdout",
          "output_type": "stream",
          "text": [
            "(512, 512, 3)\n"
          ]
        }
      ],
      "source": [
        "image_array = np.array(image_file_small)\n",
        "print(image_array.shape)"
      ]
    },
    {
      "cell_type": "markdown",
      "metadata": {
        "id": "vTQxY-YbwDz0"
      },
      "source": [
        "You can see that the image has three dimensions:\n",
        "\n",
        "\n",
        "1.   The first dimension (index:0) is the image height (H)\n",
        "2.   The second dimension (index:1) is the image width (W)\n",
        "3.   The third dimension (index:2) is the image channels (C)\n",
        "\n",
        "In short, you can say the array is `H:W:C`. As you see this image is a 512*512 image with three dimensions. So what are the dimensions?\n",
        "\n",
        "Most computer displays show images as a collection of pixels, and each pixel creates color by mixing specific amounts of red, green, and blue light. These specific amounts are stored in three different channels when we save images.\n",
        "\n",
        "<br><img src=\"https://i.ibb.co/CbgLynF/Image-Channels.png\" alt=\"Figure 5\" style='margin:auto' border=\"0\"><u><b>Figure 5.</b> RGB Image Coordination System ([source](https://towardsdatascience.com/understanding-images-with-skimage-python-b94d210afd23))</u><br><br>\n",
        "\n",
        "So imagine that our image is made up of three layers each with a height of 512px and a width of 512px. These layers are stacked together to create an RGB image.\n",
        "\n",
        "As you might guess a grayscale image can be created by setting the amount of red, green, and blue to the same value, thus creating different shades of the gray color. We can check if the three channels of our chest x-ray have the same values or not:\n"
      ]
    },
    {
      "cell_type": "code",
      "execution_count": null,
      "metadata": {
        "colab": {
          "base_uri": "https://localhost:8080/"
        },
        "id": "hdN6jPat5mqc",
        "outputId": "df51a385-192e-4f24-eee9-4f1634da68f3"
      },
      "outputs": [
        {
          "name": "stdout",
          "output_type": "stream",
          "text": [
            "All channels are the same.\n"
          ]
        }
      ],
      "source": [
        "if (image_array[:, :, 0] == image_array[:, :, 1]).all() and (\n",
        "    image_array[:, :, 1] == image_array[:, :, 2]\n",
        ").any():\n",
        "    print(\"All channels are the same.\")\n",
        "else:\n",
        "    print(\"Channels have different values.\")"
      ]
    },
    {
      "cell_type": "markdown",
      "metadata": {
        "id": "mnVaEaQr681a"
      },
      "source": [
        "You can see that we used array slicing (`image_array[:,:,0]`) to get all the pixels in the height (*first `:`*) and all the pixels in the width (*second `:`*) of the image in the zero-th channel. You can also use this approach to crop an image based on pixel numbers!"
      ]
    },
    {
      "cell_type": "markdown",
      "metadata": {
        "id": "BjTkWxdg7jpk"
      },
      "source": [
        "---\n",
        "\n",
        "\n",
        "> **Exercise 4**: Use array slicing to crop a 128*128px square image from the center of the chest x-ray image.\n",
        "\n",
        "\n",
        "---"
      ]
    },
    {
      "cell_type": "markdown",
      "metadata": {
        "id": "LVPjEIQ26WrB"
      },
      "source": [
        "Because this approach of having three channels with the same information is redundant and requires three times as much space in memory when saving the image, we can omit two channels (whichever we want as they are the same) and create a one-channel image."
      ]
    },
    {
      "cell_type": "code",
      "execution_count": null,
      "metadata": {
        "colab": {
          "base_uri": "https://localhost:8080/",
          "height": 269
        },
        "id": "HKcynIal89bI",
        "outputId": "7df463a5-feea-4c62-d99d-1e582d0e4e7c"
      },
      "outputs": [
        {
          "data": {
            "image/png": "[encoded data removed]",
            "text/plain": [
              "<Figure size 432x288 with 1 Axes>"
            ]
          },
          "metadata": {
            "needs_background": "light"
          },
          "output_type": "display_data"
        }
      ],
      "source": [
        "image_array_gray = image_array[:, :, 0]\n",
        "plt.imshow(image_array_gray, cmap=\"gray\");"
      ]
    },
    {
      "cell_type": "markdown",
      "metadata": {
        "id": "11-mHeBI9Upm"
      },
      "source": [
        "You can see that the image looks the same. Note that matplotlib (`plt`) can show numpy arrays, but you have to specify the color map (the `cmap` argument). You can delete the color map and see what happens!"
      ]
    },
    {
      "cell_type": "markdown",
      "metadata": {
        "id": "rbOEpi4msYWU"
      },
      "source": [
        "---\n",
        "\n",
        "\n",
        "> **Exercise 5**: Look at different color-maps of matplotlib [here](https://matplotlib.org/stable/tutorials/colors/colormaps.html), and try them on the image and see the results.\n",
        "\n",
        "\n",
        "---"
      ]
    },
    {
      "cell_type": "markdown",
      "metadata": {
        "id": "Yn0QCkyFscyC"
      },
      "source": [
        "We will learn more about different kinds of medical imaging in *Chapter 5A*.\n",
        "\n",
        "Now let's proceed to our last package, Pandas!"
      ]
    },
    {
      "cell_type": "markdown",
      "metadata": {
        "id": "3FOpN9Y5883E"
      },
      "source": [
        "## 4.3. **Handling Tabular Data**"
      ]
    },
    {
      "cell_type": "markdown",
      "metadata": {
        "id": "OYc99q2mmj9H"
      },
      "source": [
        "In the majority of your projects, you will have numeric or categorical data saved in a spreadsheet (e.g. excel or csv files). We must find a way to read and edit these kinds of data sources in Python. Here is where *Pandas* comes in. Pandas is a Python package designed to open, process, and save spreadsheets. Unlike excel or other spreadsheet viewers that have a graphical user interface, pandas exposes all of its functionalities using a few lines of code. This helps save your machine's memory for computation rather than using it to render the tables themselves, which in turn allows you to open and work with spreadsheets with tens of millions of cells. Let's first install pandas in our **MIDEL environment**:\n",
        "\n",
        "```\n",
        "pip install pandas==0.25.0\n",
        "```"
      ]
    },
    {
      "cell_type": "markdown",
      "metadata": {
        "id": "TL5AL-ZlAu0x"
      },
      "source": [
        "---\n",
        "\n",
        "\n",
        "> **Note**: If you are viewing this chapter in Colab, these packages are already installed and you can skip the `pip install` command.\n",
        "\n",
        "\n",
        "---"
      ]
    },
    {
      "cell_type": "markdown",
      "metadata": {
        "id": "5qH3OJ-VV4JI"
      },
      "source": [
        "First, let's download a sample excel file:"
      ]
    },
    {
      "cell_type": "code",
      "execution_count": null,
      "metadata": {
        "colab": {
          "base_uri": "https://localhost:8080/",
          "height": 35
        },
        "id": "e8p3ADNUWAxO",
        "outputId": "1f281d14-828d-488b-943c-8fcd1b8bd9e5"
      },
      "outputs": [
        {
          "data": {
            "application/vnd.google.colaboratory.intrinsic+json": {
              "type": "string"
            },
            "text/plain": [
              "'sample_spreadsheet.excel'"
            ]
          },
          "execution_count": 35,
          "metadata": {},
          "output_type": "execute_result"
        }
      ],
      "source": [
        "file_url = (\n",
        "    \"https://drive.google.com/uc?export=download&confirm=pbef&id=1vgrc4WMmOOAc4jCctM69fjqUr4qFqb9k\"\n",
        ")\n",
        "file_name = \"sample_spreadsheet.excel\"\n",
        "gdown.download(file_url, file_name, quiet=True)"
      ]
    },
    {
      "cell_type": "markdown",
      "metadata": {
        "id": "UjXL5Q9BWT6G"
      },
      "source": [
        "Now we can load the contents of this file into a pandas **DataFrame**:"
      ]
    },
    {
      "cell_type": "code",
      "execution_count": null,
      "metadata": {
        "colab": {
          "base_uri": "https://localhost:8080/",
          "height": 269
        },
        "id": "EqTlUQqUWYQi",
        "outputId": "427b0d5a-c391-40e7-d70d-92036967516a"
      },
      "outputs": [
        {
          "data": {
            "text/html": [
              "\n",
              "  <div id=\"df-a3c89e44-f781-48ad-b4d9-95edfefb6065\">\n",
              "    <div class=\"colab-df-container\">\n",
              "      <div>\n",
              "<style scoped>\n",
              "    .dataframe tbody tr th:only-of-type {\n",
              "        vertical-align: middle;\n",
              "    }\n",
              "\n",
              "    .dataframe tbody tr th {\n",
              "        vertical-align: top;\n",
              "    }\n",
              "\n",
              "    .dataframe thead th {\n",
              "        text-align: right;\n",
              "    }\n",
              "</style>\n",
              "<table border=\"1\" class=\"dataframe\">\n",
              "  <thead>\n",
              "    <tr style=\"text-align: right;\">\n",
              "      <th></th>\n",
              "      <th>PatientID</th>\n",
              "      <th>Modality</th>\n",
              "      <th>Gender</th>\n",
              "      <th>Age</th>\n",
              "    </tr>\n",
              "  </thead>\n",
              "  <tbody>\n",
              "    <tr>\n",
              "      <th>0</th>\n",
              "      <td>10123</td>\n",
              "      <td>DR</td>\n",
              "      <td>Male</td>\n",
              "      <td>27</td>\n",
              "    </tr>\n",
              "    <tr>\n",
              "      <th>1</th>\n",
              "      <td>10124</td>\n",
              "      <td>DR</td>\n",
              "      <td>Female</td>\n",
              "      <td>28</td>\n",
              "    </tr>\n",
              "    <tr>\n",
              "      <th>2</th>\n",
              "      <td>10126</td>\n",
              "      <td>MRI</td>\n",
              "      <td>Male</td>\n",
              "      <td>73</td>\n",
              "    </tr>\n",
              "    <tr>\n",
              "      <th>3</th>\n",
              "      <td>12456</td>\n",
              "      <td>DR</td>\n",
              "      <td>Female</td>\n",
              "      <td>61</td>\n",
              "    </tr>\n",
              "    <tr>\n",
              "      <th>4</th>\n",
              "      <td>16789</td>\n",
              "      <td>MRI</td>\n",
              "      <td>Male</td>\n",
              "      <td>45</td>\n",
              "    </tr>\n",
              "    <tr>\n",
              "      <th>5</th>\n",
              "      <td>13029</td>\n",
              "      <td>DR</td>\n",
              "      <td>Female</td>\n",
              "      <td>54</td>\n",
              "    </tr>\n",
              "    <tr>\n",
              "      <th>6</th>\n",
              "      <td>10235</td>\n",
              "      <td>MRI</td>\n",
              "      <td>Male</td>\n",
              "      <td>18</td>\n",
              "    </tr>\n",
              "  </tbody>\n",
              "</table>\n",
              "</div>\n",
              "      <button class=\"colab-df-convert\" onclick=\"convertToInteractive('df-a3c89e44-f781-48ad-b4d9-95edfefb6065')\"\n",
              "              title=\"Convert this dataframe to an interactive table.\"\n",
              "              style=\"display:none;\">\n",
              "        \n",
              "  <svg xmlns=\"http://www.w3.org/2000/svg\" height=\"24px\"viewBox=\"0 0 24 24\"\n",
              "       width=\"24px\">\n",
              "    <path d=\"M0 0h24v24H0V0z\" fill=\"none\"/>\n",
              "    <path d=\"M18.56 5.44l.94 2.06.94-2.06 2.06-.94-2.06-.94-.94-2.06-.94 2.06-2.06.94zm-11 1L8.5 8.5l.94-2.06 2.06-.94-2.06-.94L8.5 2.5l-.94 2.06-2.06.94zm10 10l.94 2.06.94-2.06 2.06-.94-2.06-.94-.94-2.06-.94 2.06-2.06.94z\"/><path d=\"M17.41 7.96l-1.37-1.37c-.4-.4-.92-.59-1.43-.59-.52 0-1.04.2-1.43.59L10.3 9.45l-7.72 7.72c-.78.78-.78 2.05 0 2.83L4 21.41c.39.39.9.59 1.41.59.51 0 1.02-.2 1.41-.59l7.78-7.78 2.81-2.81c.8-.78.8-2.07 0-2.86zM5.41 20L4 18.59l7.72-7.72 1.47 1.35L5.41 20z\"/>\n",
              "  </svg>\n",
              "      </button>\n",
              "      \n",
              "  <style>\n",
              "    .colab-df-container {\n",
              "      display:flex;\n",
              "      flex-wrap:wrap;\n",
              "      gap: 12px;\n",
              "    }\n",
              "\n",
              "    .colab-df-convert {\n",
              "      background-color: #E8F0FE;\n",
              "      border: none;\n",
              "      border-radius: 50%;\n",
              "      cursor: pointer;\n",
              "      display: none;\n",
              "      fill: #1967D2;\n",
              "      height: 32px;\n",
              "      padding: 0 0 0 0;\n",
              "      width: 32px;\n",
              "    }\n",
              "\n",
              "    .colab-df-convert:hover {\n",
              "      background-color: #E2EBFA;\n",
              "      box-shadow: 0px 1px 2px rgba(60, 64, 67, 0.3), 0px 1px 3px 1px rgba(60, 64, 67, 0.15);\n",
              "      fill: #174EA6;\n",
              "    }\n",
              "\n",
              "    [theme=dark] .colab-df-convert {\n",
              "      background-color: #3B4455;\n",
              "      fill: #D2E3FC;\n",
              "    }\n",
              "\n",
              "    [theme=dark] .colab-df-convert:hover {\n",
              "      background-color: #434B5C;\n",
              "      box-shadow: 0px 1px 3px 1px rgba(0, 0, 0, 0.15);\n",
              "      filter: drop-shadow(0px 1px 2px rgba(0, 0, 0, 0.3));\n",
              "      fill: #FFFFFF;\n",
              "    }\n",
              "  </style>\n",
              "\n",
              "      <script>\n",
              "        const buttonEl =\n",
              "          document.querySelector('#df-a3c89e44-f781-48ad-b4d9-95edfefb6065 button.colab-df-convert');\n",
              "        buttonEl.style.display =\n",
              "          google.colab.kernel.accessAllowed ? 'block' : 'none';\n",
              "\n",
              "        async function convertToInteractive(key) {\n",
              "          const element = document.querySelector('#df-a3c89e44-f781-48ad-b4d9-95edfefb6065');\n",
              "          const dataTable =\n",
              "            await google.colab.kernel.invokeFunction('convertToInteractive',\n",
              "                                                     [key], {});\n",
              "          if (!dataTable) return;\n",
              "\n",
              "          const docLinkHtml = 'Like what you see? Visit the ' +\n",
              "            '<a target=\"_blank\" href=https://colab.research.google.com/notebooks/data_table.ipynb>data table notebook</a>'\n",
              "            + ' to learn more about interactive tables.';\n",
              "          element.innerHTML = '';\n",
              "          dataTable['output_type'] = 'display_data';\n",
              "          await google.colab.output.renderOutput(dataTable, element);\n",
              "          const docLink = document.createElement('div');\n",
              "          docLink.innerHTML = docLinkHtml;\n",
              "          element.appendChild(docLink);\n",
              "        }\n",
              "      </script>\n",
              "    </div>\n",
              "  </div>\n",
              "  "
            ],
            "text/plain": [
              "   PatientID Modality  Gender  Age\n",
              "0      10123       DR    Male   27\n",
              "1      10124       DR  Female   28\n",
              "2      10126      MRI    Male   73\n",
              "3      12456       DR  Female   61\n",
              "4      16789      MRI    Male   45\n",
              "5      13029       DR  Female   54\n",
              "6      10235      MRI    Male   18"
            ]
          },
          "execution_count": 36,
          "metadata": {},
          "output_type": "execute_result"
        }
      ],
      "source": [
        "import pandas as pd  # by convention we import pandas as pd\n",
        "\n",
        "sample_df = pd.read_excel(file_name)\n",
        "sample_df.head(7)"
      ]
    },
    {
      "cell_type": "markdown",
      "metadata": {
        "id": "k3Qo9lMsWrFA"
      },
      "source": [
        "As you see, opening an excel file can be done with a single line of code. In pandas terminology, a table is called a **DataFrame** (containing 2 dimensional data) *(typically shortened as df as in sample_df)* and every single column/row is a **Series** (containing 1 dimensional data). You can view the first 5 rows of a dataframe by using its `.head()` method. By default it will show the first 5 rows, but you can pass any integer  to dislay your preferred number of rows.\n",
        "\n",
        "If you open the Excel file with a spreadsheet viewer you see that columns start from 'PatientID', but pandas added the first column and numbered the rows from zero, called the *index column*.\n",
        "\n",
        "You can use this index to get a specific row:"
      ]
    },
    {
      "cell_type": "code",
      "execution_count": null,
      "metadata": {
        "colab": {
          "base_uri": "https://localhost:8080/"
        },
        "id": "-kBgZJTQakKp",
        "outputId": "85bc3a59-56e8-4ffa-aa88-a6eb54757f9d"
      },
      "outputs": [
        {
          "data": {
            "text/plain": [
              "PatientID    10123\n",
              "Modality        DR\n",
              "Gender        Male\n",
              "Age             27\n",
              "Name: 0, dtype: object"
            ]
          },
          "execution_count": 37,
          "metadata": {},
          "output_type": "execute_result"
        }
      ],
      "source": [
        "sample_df.iloc[0]  # viewing the row information of the first patient"
      ]
    },
    {
      "cell_type": "markdown",
      "metadata": {
        "id": "c-J1a_tZazCH"
      },
      "source": [
        "You can also visualize one or more specific columns by passing a list of column names:"
      ]
    },
    {
      "cell_type": "code",
      "execution_count": null,
      "metadata": {
        "colab": {
          "base_uri": "https://localhost:8080/",
          "height": 363
        },
        "id": "zB0ihppDa5wd",
        "outputId": "581095b4-20c5-4870-c009-a26df782daf5"
      },
      "outputs": [
        {
          "data": {
            "text/html": [
              "\n",
              "  <div id=\"df-0c56f454-1c99-4c7d-9501-362f79354856\">\n",
              "    <div class=\"colab-df-container\">\n",
              "      <div>\n",
              "<style scoped>\n",
              "    .dataframe tbody tr th:only-of-type {\n",
              "        vertical-align: middle;\n",
              "    }\n",
              "\n",
              "    .dataframe tbody tr th {\n",
              "        vertical-align: top;\n",
              "    }\n",
              "\n",
              "    .dataframe thead th {\n",
              "        text-align: right;\n",
              "    }\n",
              "</style>\n",
              "<table border=\"1\" class=\"dataframe\">\n",
              "  <thead>\n",
              "    <tr style=\"text-align: right;\">\n",
              "      <th></th>\n",
              "      <th>PatientID</th>\n",
              "      <th>Age</th>\n",
              "    </tr>\n",
              "  </thead>\n",
              "  <tbody>\n",
              "    <tr>\n",
              "      <th>0</th>\n",
              "      <td>10123</td>\n",
              "      <td>27</td>\n",
              "    </tr>\n",
              "    <tr>\n",
              "      <th>1</th>\n",
              "      <td>10124</td>\n",
              "      <td>28</td>\n",
              "    </tr>\n",
              "    <tr>\n",
              "      <th>2</th>\n",
              "      <td>10126</td>\n",
              "      <td>73</td>\n",
              "    </tr>\n",
              "    <tr>\n",
              "      <th>3</th>\n",
              "      <td>12456</td>\n",
              "      <td>61</td>\n",
              "    </tr>\n",
              "    <tr>\n",
              "      <th>4</th>\n",
              "      <td>16789</td>\n",
              "      <td>45</td>\n",
              "    </tr>\n",
              "    <tr>\n",
              "      <th>5</th>\n",
              "      <td>13029</td>\n",
              "      <td>54</td>\n",
              "    </tr>\n",
              "    <tr>\n",
              "      <th>6</th>\n",
              "      <td>10235</td>\n",
              "      <td>18</td>\n",
              "    </tr>\n",
              "    <tr>\n",
              "      <th>7</th>\n",
              "      <td>90381</td>\n",
              "      <td>34</td>\n",
              "    </tr>\n",
              "    <tr>\n",
              "      <th>8</th>\n",
              "      <td>11023</td>\n",
              "      <td>46</td>\n",
              "    </tr>\n",
              "    <tr>\n",
              "      <th>9</th>\n",
              "      <td>12058</td>\n",
              "      <td>81</td>\n",
              "    </tr>\n",
              "  </tbody>\n",
              "</table>\n",
              "</div>\n",
              "      <button class=\"colab-df-convert\" onclick=\"convertToInteractive('df-0c56f454-1c99-4c7d-9501-362f79354856')\"\n",
              "              title=\"Convert this dataframe to an interactive table.\"\n",
              "              style=\"display:none;\">\n",
              "        \n",
              "  <svg xmlns=\"http://www.w3.org/2000/svg\" height=\"24px\"viewBox=\"0 0 24 24\"\n",
              "       width=\"24px\">\n",
              "    <path d=\"M0 0h24v24H0V0z\" fill=\"none\"/>\n",
              "    <path d=\"M18.56 5.44l.94 2.06.94-2.06 2.06-.94-2.06-.94-.94-2.06-.94 2.06-2.06.94zm-11 1L8.5 8.5l.94-2.06 2.06-.94-2.06-.94L8.5 2.5l-.94 2.06-2.06.94zm10 10l.94 2.06.94-2.06 2.06-.94-2.06-.94-.94-2.06-.94 2.06-2.06.94z\"/><path d=\"M17.41 7.96l-1.37-1.37c-.4-.4-.92-.59-1.43-.59-.52 0-1.04.2-1.43.59L10.3 9.45l-7.72 7.72c-.78.78-.78 2.05 0 2.83L4 21.41c.39.39.9.59 1.41.59.51 0 1.02-.2 1.41-.59l7.78-7.78 2.81-2.81c.8-.78.8-2.07 0-2.86zM5.41 20L4 18.59l7.72-7.72 1.47 1.35L5.41 20z\"/>\n",
              "  </svg>\n",
              "      </button>\n",
              "      \n",
              "  <style>\n",
              "    .colab-df-container {\n",
              "      display:flex;\n",
              "      flex-wrap:wrap;\n",
              "      gap: 12px;\n",
              "    }\n",
              "\n",
              "    .colab-df-convert {\n",
              "      background-color: #E8F0FE;\n",
              "      border: none;\n",
              "      border-radius: 50%;\n",
              "      cursor: pointer;\n",
              "      display: none;\n",
              "      fill: #1967D2;\n",
              "      height: 32px;\n",
              "      padding: 0 0 0 0;\n",
              "      width: 32px;\n",
              "    }\n",
              "\n",
              "    .colab-df-convert:hover {\n",
              "      background-color: #E2EBFA;\n",
              "      box-shadow: 0px 1px 2px rgba(60, 64, 67, 0.3), 0px 1px 3px 1px rgba(60, 64, 67, 0.15);\n",
              "      fill: #174EA6;\n",
              "    }\n",
              "\n",
              "    [theme=dark] .colab-df-convert {\n",
              "      background-color: #3B4455;\n",
              "      fill: #D2E3FC;\n",
              "    }\n",
              "\n",
              "    [theme=dark] .colab-df-convert:hover {\n",
              "      background-color: #434B5C;\n",
              "      box-shadow: 0px 1px 3px 1px rgba(0, 0, 0, 0.15);\n",
              "      filter: drop-shadow(0px 1px 2px rgba(0, 0, 0, 0.3));\n",
              "      fill: #FFFFFF;\n",
              "    }\n",
              "  </style>\n",
              "\n",
              "      <script>\n",
              "        const buttonEl =\n",
              "          document.querySelector('#df-0c56f454-1c99-4c7d-9501-362f79354856 button.colab-df-convert');\n",
              "        buttonEl.style.display =\n",
              "          google.colab.kernel.accessAllowed ? 'block' : 'none';\n",
              "\n",
              "        async function convertToInteractive(key) {\n",
              "          const element = document.querySelector('#df-0c56f454-1c99-4c7d-9501-362f79354856');\n",
              "          const dataTable =\n",
              "            await google.colab.kernel.invokeFunction('convertToInteractive',\n",
              "                                                     [key], {});\n",
              "          if (!dataTable) return;\n",
              "\n",
              "          const docLinkHtml = 'Like what you see? Visit the ' +\n",
              "            '<a target=\"_blank\" href=https://colab.research.google.com/notebooks/data_table.ipynb>data table notebook</a>'\n",
              "            + ' to learn more about interactive tables.';\n",
              "          element.innerHTML = '';\n",
              "          dataTable['output_type'] = 'display_data';\n",
              "          await google.colab.output.renderOutput(dataTable, element);\n",
              "          const docLink = document.createElement('div');\n",
              "          docLink.innerHTML = docLinkHtml;\n",
              "          element.appendChild(docLink);\n",
              "        }\n",
              "      </script>\n",
              "    </div>\n",
              "  </div>\n",
              "  "
            ],
            "text/plain": [
              "   PatientID  Age\n",
              "0      10123   27\n",
              "1      10124   28\n",
              "2      10126   73\n",
              "3      12456   61\n",
              "4      16789   45\n",
              "5      13029   54\n",
              "6      10235   18\n",
              "7      90381   34\n",
              "8      11023   46\n",
              "9      12058   81"
            ]
          },
          "execution_count": 38,
          "metadata": {},
          "output_type": "execute_result"
        }
      ],
      "source": [
        "sample_df[\n",
        "    [\"PatientID\", \"Age\"]\n",
        "]  # passing a list of column names as indices of a dataframe"
      ]
    },
    {
      "cell_type": "markdown",
      "metadata": {
        "id": "8GgyqLqya6xr"
      },
      "source": [
        "You can also mix and match these approaches:"
      ]
    },
    {
      "cell_type": "code",
      "execution_count": null,
      "metadata": {
        "colab": {
          "base_uri": "https://localhost:8080/",
          "height": 112
        },
        "id": "9l6mzrpwa6sE",
        "outputId": "e1fa4d13-ee88-41d8-9a15-74963e884c07"
      },
      "outputs": [
        {
          "data": {
            "text/html": [
              "\n",
              "  <div id=\"df-8963b154-dbba-4e69-8ace-9ff77d67a04b\">\n",
              "    <div class=\"colab-df-container\">\n",
              "      <div>\n",
              "<style scoped>\n",
              "    .dataframe tbody tr th:only-of-type {\n",
              "        vertical-align: middle;\n",
              "    }\n",
              "\n",
              "    .dataframe tbody tr th {\n",
              "        vertical-align: top;\n",
              "    }\n",
              "\n",
              "    .dataframe thead th {\n",
              "        text-align: right;\n",
              "    }\n",
              "</style>\n",
              "<table border=\"1\" class=\"dataframe\">\n",
              "  <thead>\n",
              "    <tr style=\"text-align: right;\">\n",
              "      <th></th>\n",
              "      <th>PatientID</th>\n",
              "      <th>Age</th>\n",
              "    </tr>\n",
              "  </thead>\n",
              "  <tbody>\n",
              "    <tr>\n",
              "      <th>0</th>\n",
              "      <td>10123</td>\n",
              "      <td>27</td>\n",
              "    </tr>\n",
              "    <tr>\n",
              "      <th>1</th>\n",
              "      <td>10124</td>\n",
              "      <td>28</td>\n",
              "    </tr>\n",
              "  </tbody>\n",
              "</table>\n",
              "</div>\n",
              "      <button class=\"colab-df-convert\" onclick=\"convertToInteractive('df-8963b154-dbba-4e69-8ace-9ff77d67a04b')\"\n",
              "              title=\"Convert this dataframe to an interactive table.\"\n",
              "              style=\"display:none;\">\n",
              "        \n",
              "  <svg xmlns=\"http://www.w3.org/2000/svg\" height=\"24px\"viewBox=\"0 0 24 24\"\n",
              "       width=\"24px\">\n",
              "    <path d=\"M0 0h24v24H0V0z\" fill=\"none\"/>\n",
              "    <path d=\"M18.56 5.44l.94 2.06.94-2.06 2.06-.94-2.06-.94-.94-2.06-.94 2.06-2.06.94zm-11 1L8.5 8.5l.94-2.06 2.06-.94-2.06-.94L8.5 2.5l-.94 2.06-2.06.94zm10 10l.94 2.06.94-2.06 2.06-.94-2.06-.94-.94-2.06-.94 2.06-2.06.94z\"/><path d=\"M17.41 7.96l-1.37-1.37c-.4-.4-.92-.59-1.43-.59-.52 0-1.04.2-1.43.59L10.3 9.45l-7.72 7.72c-.78.78-.78 2.05 0 2.83L4 21.41c.39.39.9.59 1.41.59.51 0 1.02-.2 1.41-.59l7.78-7.78 2.81-2.81c.8-.78.8-2.07 0-2.86zM5.41 20L4 18.59l7.72-7.72 1.47 1.35L5.41 20z\"/>\n",
              "  </svg>\n",
              "      </button>\n",
              "      \n",
              "  <style>\n",
              "    .colab-df-container {\n",
              "      display:flex;\n",
              "      flex-wrap:wrap;\n",
              "      gap: 12px;\n",
              "    }\n",
              "\n",
              "    .colab-df-convert {\n",
              "      background-color: #E8F0FE;\n",
              "      border: none;\n",
              "      border-radius: 50%;\n",
              "      cursor: pointer;\n",
              "      display: none;\n",
              "      fill: #1967D2;\n",
              "      height: 32px;\n",
              "      padding: 0 0 0 0;\n",
              "      width: 32px;\n",
              "    }\n",
              "\n",
              "    .colab-df-convert:hover {\n",
              "      background-color: #E2EBFA;\n",
              "      box-shadow: 0px 1px 2px rgba(60, 64, 67, 0.3), 0px 1px 3px 1px rgba(60, 64, 67, 0.15);\n",
              "      fill: #174EA6;\n",
              "    }\n",
              "\n",
              "    [theme=dark] .colab-df-convert {\n",
              "      background-color: #3B4455;\n",
              "      fill: #D2E3FC;\n",
              "    }\n",
              "\n",
              "    [theme=dark] .colab-df-convert:hover {\n",
              "      background-color: #434B5C;\n",
              "      box-shadow: 0px 1px 3px 1px rgba(0, 0, 0, 0.15);\n",
              "      filter: drop-shadow(0px 1px 2px rgba(0, 0, 0, 0.3));\n",
              "      fill: #FFFFFF;\n",
              "    }\n",
              "  </style>\n",
              "\n",
              "      <script>\n",
              "        const buttonEl =\n",
              "          document.querySelector('#df-8963b154-dbba-4e69-8ace-9ff77d67a04b button.colab-df-convert');\n",
              "        buttonEl.style.display =\n",
              "          google.colab.kernel.accessAllowed ? 'block' : 'none';\n",
              "\n",
              "        async function convertToInteractive(key) {\n",
              "          const element = document.querySelector('#df-8963b154-dbba-4e69-8ace-9ff77d67a04b');\n",
              "          const dataTable =\n",
              "            await google.colab.kernel.invokeFunction('convertToInteractive',\n",
              "                                                     [key], {});\n",
              "          if (!dataTable) return;\n",
              "\n",
              "          const docLinkHtml = 'Like what you see? Visit the ' +\n",
              "            '<a target=\"_blank\" href=https://colab.research.google.com/notebooks/data_table.ipynb>data table notebook</a>'\n",
              "            + ' to learn more about interactive tables.';\n",
              "          element.innerHTML = '';\n",
              "          dataTable['output_type'] = 'display_data';\n",
              "          await google.colab.output.renderOutput(dataTable, element);\n",
              "          const docLink = document.createElement('div');\n",
              "          docLink.innerHTML = docLinkHtml;\n",
              "          element.appendChild(docLink);\n",
              "        }\n",
              "      </script>\n",
              "    </div>\n",
              "  </div>\n",
              "  "
            ],
            "text/plain": [
              "   PatientID  Age\n",
              "0      10123   27\n",
              "1      10124   28"
            ]
          },
          "execution_count": 39,
          "metadata": {},
          "output_type": "execute_result"
        }
      ],
      "source": [
        "sample_df[[\"PatientID\", \"Age\"]].iloc[\n",
        "    [0, 1]\n",
        "]  # same as sample_df.iloc[0][['PatientID','Age']]"
      ]
    },
    {
      "cell_type": "markdown",
      "metadata": {
        "id": "3TUa9-3ea6nD"
      },
      "source": [
        "One powerful feature of pandas that comes in handy during your data selection process is filtering. Imagine that we want to get rows that are related to female patients who are older than 40 years or younger than 30 years:"
      ]
    },
    {
      "cell_type": "code",
      "execution_count": null,
      "metadata": {
        "colab": {
          "base_uri": "https://localhost:8080/",
          "height": 175
        },
        "id": "Xd-Hy5NAa6hd",
        "outputId": "9e1b44aa-c003-4c02-e2c5-2636edda7b0f"
      },
      "outputs": [
        {
          "data": {
            "text/html": [
              "\n",
              "  <div id=\"df-4e93779e-fc6b-4a54-a5e9-f0685a97f2bd\">\n",
              "    <div class=\"colab-df-container\">\n",
              "      <div>\n",
              "<style scoped>\n",
              "    .dataframe tbody tr th:only-of-type {\n",
              "        vertical-align: middle;\n",
              "    }\n",
              "\n",
              "    .dataframe tbody tr th {\n",
              "        vertical-align: top;\n",
              "    }\n",
              "\n",
              "    .dataframe thead th {\n",
              "        text-align: right;\n",
              "    }\n",
              "</style>\n",
              "<table border=\"1\" class=\"dataframe\">\n",
              "  <thead>\n",
              "    <tr style=\"text-align: right;\">\n",
              "      <th></th>\n",
              "      <th>PatientID</th>\n",
              "      <th>Modality</th>\n",
              "      <th>Gender</th>\n",
              "      <th>Age</th>\n",
              "    </tr>\n",
              "  </thead>\n",
              "  <tbody>\n",
              "    <tr>\n",
              "      <th>1</th>\n",
              "      <td>10124</td>\n",
              "      <td>DR</td>\n",
              "      <td>Female</td>\n",
              "      <td>28</td>\n",
              "    </tr>\n",
              "    <tr>\n",
              "      <th>3</th>\n",
              "      <td>12456</td>\n",
              "      <td>DR</td>\n",
              "      <td>Female</td>\n",
              "      <td>61</td>\n",
              "    </tr>\n",
              "    <tr>\n",
              "      <th>5</th>\n",
              "      <td>13029</td>\n",
              "      <td>DR</td>\n",
              "      <td>Female</td>\n",
              "      <td>54</td>\n",
              "    </tr>\n",
              "    <tr>\n",
              "      <th>9</th>\n",
              "      <td>12058</td>\n",
              "      <td>MRI</td>\n",
              "      <td>Female</td>\n",
              "      <td>81</td>\n",
              "    </tr>\n",
              "  </tbody>\n",
              "</table>\n",
              "</div>\n",
              "      <button class=\"colab-df-convert\" onclick=\"convertToInteractive('df-4e93779e-fc6b-4a54-a5e9-f0685a97f2bd')\"\n",
              "              title=\"Convert this dataframe to an interactive table.\"\n",
              "              style=\"display:none;\">\n",
              "        \n",
              "  <svg xmlns=\"http://www.w3.org/2000/svg\" height=\"24px\"viewBox=\"0 0 24 24\"\n",
              "       width=\"24px\">\n",
              "    <path d=\"M0 0h24v24H0V0z\" fill=\"none\"/>\n",
              "    <path d=\"M18.56 5.44l.94 2.06.94-2.06 2.06-.94-2.06-.94-.94-2.06-.94 2.06-2.06.94zm-11 1L8.5 8.5l.94-2.06 2.06-.94-2.06-.94L8.5 2.5l-.94 2.06-2.06.94zm10 10l.94 2.06.94-2.06 2.06-.94-2.06-.94-.94-2.06-.94 2.06-2.06.94z\"/><path d=\"M17.41 7.96l-1.37-1.37c-.4-.4-.92-.59-1.43-.59-.52 0-1.04.2-1.43.59L10.3 9.45l-7.72 7.72c-.78.78-.78 2.05 0 2.83L4 21.41c.39.39.9.59 1.41.59.51 0 1.02-.2 1.41-.59l7.78-7.78 2.81-2.81c.8-.78.8-2.07 0-2.86zM5.41 20L4 18.59l7.72-7.72 1.47 1.35L5.41 20z\"/>\n",
              "  </svg>\n",
              "      </button>\n",
              "      \n",
              "  <style>\n",
              "    .colab-df-container {\n",
              "      display:flex;\n",
              "      flex-wrap:wrap;\n",
              "      gap: 12px;\n",
              "    }\n",
              "\n",
              "    .colab-df-convert {\n",
              "      background-color: #E8F0FE;\n",
              "      border: none;\n",
              "      border-radius: 50%;\n",
              "      cursor: pointer;\n",
              "      display: none;\n",
              "      fill: #1967D2;\n",
              "      height: 32px;\n",
              "      padding: 0 0 0 0;\n",
              "      width: 32px;\n",
              "    }\n",
              "\n",
              "    .colab-df-convert:hover {\n",
              "      background-color: #E2EBFA;\n",
              "      box-shadow: 0px 1px 2px rgba(60, 64, 67, 0.3), 0px 1px 3px 1px rgba(60, 64, 67, 0.15);\n",
              "      fill: #174EA6;\n",
              "    }\n",
              "\n",
              "    [theme=dark] .colab-df-convert {\n",
              "      background-color: #3B4455;\n",
              "      fill: #D2E3FC;\n",
              "    }\n",
              "\n",
              "    [theme=dark] .colab-df-convert:hover {\n",
              "      background-color: #434B5C;\n",
              "      box-shadow: 0px 1px 3px 1px rgba(0, 0, 0, 0.15);\n",
              "      filter: drop-shadow(0px 1px 2px rgba(0, 0, 0, 0.3));\n",
              "      fill: #FFFFFF;\n",
              "    }\n",
              "  </style>\n",
              "\n",
              "      <script>\n",
              "        const buttonEl =\n",
              "          document.querySelector('#df-4e93779e-fc6b-4a54-a5e9-f0685a97f2bd button.colab-df-convert');\n",
              "        buttonEl.style.display =\n",
              "          google.colab.kernel.accessAllowed ? 'block' : 'none';\n",
              "\n",
              "        async function convertToInteractive(key) {\n",
              "          const element = document.querySelector('#df-4e93779e-fc6b-4a54-a5e9-f0685a97f2bd');\n",
              "          const dataTable =\n",
              "            await google.colab.kernel.invokeFunction('convertToInteractive',\n",
              "                                                     [key], {});\n",
              "          if (!dataTable) return;\n",
              "\n",
              "          const docLinkHtml = 'Like what you see? Visit the ' +\n",
              "            '<a target=\"_blank\" href=https://colab.research.google.com/notebooks/data_table.ipynb>data table notebook</a>'\n",
              "            + ' to learn more about interactive tables.';\n",
              "          element.innerHTML = '';\n",
              "          dataTable['output_type'] = 'display_data';\n",
              "          await google.colab.output.renderOutput(dataTable, element);\n",
              "          const docLink = document.createElement('div');\n",
              "          docLink.innerHTML = docLinkHtml;\n",
              "          element.appendChild(docLink);\n",
              "        }\n",
              "      </script>\n",
              "    </div>\n",
              "  </div>\n",
              "  "
            ],
            "text/plain": [
              "   PatientID Modality  Gender  Age\n",
              "1      10124       DR  Female   28\n",
              "3      12456       DR  Female   61\n",
              "5      13029       DR  Female   54\n",
              "9      12058      MRI  Female   81"
            ]
          },
          "execution_count": 40,
          "metadata": {},
          "output_type": "execute_result"
        }
      ],
      "source": [
        "sample_df[\n",
        "    (sample_df[\"Gender\"] == \"Female\")\n",
        "    & ((sample_df[\"Age\"] > 40) | (sample_df[\"Age\"] < 30))\n",
        "]  # '&' used as AND, '|' used as OR"
      ]
    },
    {
      "cell_type": "markdown",
      "metadata": {
        "id": "IxNKWMA7a6bU"
      },
      "source": [
        "Let's break this statement up to better understand it:"
      ]
    },
    {
      "cell_type": "code",
      "execution_count": null,
      "metadata": {
        "colab": {
          "base_uri": "https://localhost:8080/"
        },
        "id": "nR1gE6gia6VA",
        "outputId": "03f1a161-530c-438d-9f3b-ce8147113833"
      },
      "outputs": [
        {
          "data": {
            "text/plain": [
              "0    False\n",
              "1     True\n",
              "2    False\n",
              "3     True\n",
              "4    False\n",
              "5     True\n",
              "6    False\n",
              "7     True\n",
              "8    False\n",
              "9     True\n",
              "Name: Gender, dtype: bool"
            ]
          },
          "execution_count": 41,
          "metadata": {},
          "output_type": "execute_result"
        }
      ],
      "source": [
        "sample_df[\"Gender\"] == \"Female\""
      ]
    },
    {
      "cell_type": "markdown",
      "metadata": {
        "id": "wHOx1xPGa6Mk"
      },
      "source": [
        "You can see that by checking if the 'Gender' column's value equals \"Female\" we get either `True` or `False` for each of the rows. We can combine these boolean values with `&`*(AND)* or `|`*(OR)* operators. Don't forget the *parenthesis* between each comparison phrase. We can now *mask* our original dataframe to get the rows that are `True`.\n",
        "\n",
        "You can also use pandas to change cell values. Let's create a column and set it to missing values. Pandas uses numpy in the backend, so you can specify missing values as `np.nan`:"
      ]
    },
    {
      "cell_type": "code",
      "execution_count": null,
      "metadata": {
        "colab": {
          "base_uri": "https://localhost:8080/",
          "height": 206
        },
        "id": "51S7liMS7eeB",
        "outputId": "711fe279-43cd-4914-b4ed-45ea67e317ea"
      },
      "outputs": [
        {
          "data": {
            "text/html": [
              "\n",
              "  <div id=\"df-35850883-1e80-4e01-a2d1-c6634f5a5c6a\">\n",
              "    <div class=\"colab-df-container\">\n",
              "      <div>\n",
              "<style scoped>\n",
              "    .dataframe tbody tr th:only-of-type {\n",
              "        vertical-align: middle;\n",
              "    }\n",
              "\n",
              "    .dataframe tbody tr th {\n",
              "        vertical-align: top;\n",
              "    }\n",
              "\n",
              "    .dataframe thead th {\n",
              "        text-align: right;\n",
              "    }\n",
              "</style>\n",
              "<table border=\"1\" class=\"dataframe\">\n",
              "  <thead>\n",
              "    <tr style=\"text-align: right;\">\n",
              "      <th></th>\n",
              "      <th>PatientID</th>\n",
              "      <th>Modality</th>\n",
              "      <th>Gender</th>\n",
              "      <th>Age</th>\n",
              "      <th>Selected</th>\n",
              "    </tr>\n",
              "  </thead>\n",
              "  <tbody>\n",
              "    <tr>\n",
              "      <th>0</th>\n",
              "      <td>10123</td>\n",
              "      <td>DR</td>\n",
              "      <td>Male</td>\n",
              "      <td>27</td>\n",
              "      <td>NaN</td>\n",
              "    </tr>\n",
              "    <tr>\n",
              "      <th>1</th>\n",
              "      <td>10124</td>\n",
              "      <td>DR</td>\n",
              "      <td>Female</td>\n",
              "      <td>28</td>\n",
              "      <td>NaN</td>\n",
              "    </tr>\n",
              "    <tr>\n",
              "      <th>2</th>\n",
              "      <td>10126</td>\n",
              "      <td>MRI</td>\n",
              "      <td>Male</td>\n",
              "      <td>73</td>\n",
              "      <td>NaN</td>\n",
              "    </tr>\n",
              "    <tr>\n",
              "      <th>3</th>\n",
              "      <td>12456</td>\n",
              "      <td>DR</td>\n",
              "      <td>Female</td>\n",
              "      <td>61</td>\n",
              "      <td>NaN</td>\n",
              "    </tr>\n",
              "    <tr>\n",
              "      <th>4</th>\n",
              "      <td>16789</td>\n",
              "      <td>MRI</td>\n",
              "      <td>Male</td>\n",
              "      <td>45</td>\n",
              "      <td>NaN</td>\n",
              "    </tr>\n",
              "  </tbody>\n",
              "</table>\n",
              "</div>\n",
              "      <button class=\"colab-df-convert\" onclick=\"convertToInteractive('df-35850883-1e80-4e01-a2d1-c6634f5a5c6a')\"\n",
              "              title=\"Convert this dataframe to an interactive table.\"\n",
              "              style=\"display:none;\">\n",
              "        \n",
              "  <svg xmlns=\"http://www.w3.org/2000/svg\" height=\"24px\"viewBox=\"0 0 24 24\"\n",
              "       width=\"24px\">\n",
              "    <path d=\"M0 0h24v24H0V0z\" fill=\"none\"/>\n",
              "    <path d=\"M18.56 5.44l.94 2.06.94-2.06 2.06-.94-2.06-.94-.94-2.06-.94 2.06-2.06.94zm-11 1L8.5 8.5l.94-2.06 2.06-.94-2.06-.94L8.5 2.5l-.94 2.06-2.06.94zm10 10l.94 2.06.94-2.06 2.06-.94-2.06-.94-.94-2.06-.94 2.06-2.06.94z\"/><path d=\"M17.41 7.96l-1.37-1.37c-.4-.4-.92-.59-1.43-.59-.52 0-1.04.2-1.43.59L10.3 9.45l-7.72 7.72c-.78.78-.78 2.05 0 2.83L4 21.41c.39.39.9.59 1.41.59.51 0 1.02-.2 1.41-.59l7.78-7.78 2.81-2.81c.8-.78.8-2.07 0-2.86zM5.41 20L4 18.59l7.72-7.72 1.47 1.35L5.41 20z\"/>\n",
              "  </svg>\n",
              "      </button>\n",
              "      \n",
              "  <style>\n",
              "    .colab-df-container {\n",
              "      display:flex;\n",
              "      flex-wrap:wrap;\n",
              "      gap: 12px;\n",
              "    }\n",
              "\n",
              "    .colab-df-convert {\n",
              "      background-color: #E8F0FE;\n",
              "      border: none;\n",
              "      border-radius: 50%;\n",
              "      cursor: pointer;\n",
              "      display: none;\n",
              "      fill: #1967D2;\n",
              "      height: 32px;\n",
              "      padding: 0 0 0 0;\n",
              "      width: 32px;\n",
              "    }\n",
              "\n",
              "    .colab-df-convert:hover {\n",
              "      background-color: #E2EBFA;\n",
              "      box-shadow: 0px 1px 2px rgba(60, 64, 67, 0.3), 0px 1px 3px 1px rgba(60, 64, 67, 0.15);\n",
              "      fill: #174EA6;\n",
              "    }\n",
              "\n",
              "    [theme=dark] .colab-df-convert {\n",
              "      background-color: #3B4455;\n",
              "      fill: #D2E3FC;\n",
              "    }\n",
              "\n",
              "    [theme=dark] .colab-df-convert:hover {\n",
              "      background-color: #434B5C;\n",
              "      box-shadow: 0px 1px 3px 1px rgba(0, 0, 0, 0.15);\n",
              "      filter: drop-shadow(0px 1px 2px rgba(0, 0, 0, 0.3));\n",
              "      fill: #FFFFFF;\n",
              "    }\n",
              "  </style>\n",
              "\n",
              "      <script>\n",
              "        const buttonEl =\n",
              "          document.querySelector('#df-35850883-1e80-4e01-a2d1-c6634f5a5c6a button.colab-df-convert');\n",
              "        buttonEl.style.display =\n",
              "          google.colab.kernel.accessAllowed ? 'block' : 'none';\n",
              "\n",
              "        async function convertToInteractive(key) {\n",
              "          const element = document.querySelector('#df-35850883-1e80-4e01-a2d1-c6634f5a5c6a');\n",
              "          const dataTable =\n",
              "            await google.colab.kernel.invokeFunction('convertToInteractive',\n",
              "                                                     [key], {});\n",
              "          if (!dataTable) return;\n",
              "\n",
              "          const docLinkHtml = 'Like what you see? Visit the ' +\n",
              "            '<a target=\"_blank\" href=https://colab.research.google.com/notebooks/data_table.ipynb>data table notebook</a>'\n",
              "            + ' to learn more about interactive tables.';\n",
              "          element.innerHTML = '';\n",
              "          dataTable['output_type'] = 'display_data';\n",
              "          await google.colab.output.renderOutput(dataTable, element);\n",
              "          const docLink = document.createElement('div');\n",
              "          docLink.innerHTML = docLinkHtml;\n",
              "          element.appendChild(docLink);\n",
              "        }\n",
              "      </script>\n",
              "    </div>\n",
              "  </div>\n",
              "  "
            ],
            "text/plain": [
              "   PatientID Modality  Gender  Age  Selected\n",
              "0      10123       DR    Male   27       NaN\n",
              "1      10124       DR  Female   28       NaN\n",
              "2      10126      MRI    Male   73       NaN\n",
              "3      12456       DR  Female   61       NaN\n",
              "4      16789      MRI    Male   45       NaN"
            ]
          },
          "execution_count": 42,
          "metadata": {},
          "output_type": "execute_result"
        }
      ],
      "source": [
        "sample_df[\"Selected\"] = np.nan\n",
        "sample_df.head()"
      ]
    },
    {
      "cell_type": "markdown",
      "metadata": {
        "id": "kg8P6dTW7skC"
      },
      "source": [
        "Now let's update the \"Selected\" column to `1` for female patients older than 40 or younger than 30 and set it to `0` for the rest:"
      ]
    },
    {
      "cell_type": "code",
      "execution_count": null,
      "metadata": {
        "colab": {
          "base_uri": "https://localhost:8080/",
          "height": 363
        },
        "id": "wwyc7adg9N0Z",
        "outputId": "24dc823c-2e3e-4113-d30d-8f2842554f94"
      },
      "outputs": [
        {
          "data": {
            "text/html": [
              "\n",
              "  <div id=\"df-f7a75b04-8f6e-4976-a2dd-207a3ad40e79\">\n",
              "    <div class=\"colab-df-container\">\n",
              "      <div>\n",
              "<style scoped>\n",
              "    .dataframe tbody tr th:only-of-type {\n",
              "        vertical-align: middle;\n",
              "    }\n",
              "\n",
              "    .dataframe tbody tr th {\n",
              "        vertical-align: top;\n",
              "    }\n",
              "\n",
              "    .dataframe thead th {\n",
              "        text-align: right;\n",
              "    }\n",
              "</style>\n",
              "<table border=\"1\" class=\"dataframe\">\n",
              "  <thead>\n",
              "    <tr style=\"text-align: right;\">\n",
              "      <th></th>\n",
              "      <th>PatientID</th>\n",
              "      <th>Modality</th>\n",
              "      <th>Gender</th>\n",
              "      <th>Age</th>\n",
              "      <th>Selected</th>\n",
              "    </tr>\n",
              "  </thead>\n",
              "  <tbody>\n",
              "    <tr>\n",
              "      <th>0</th>\n",
              "      <td>10123</td>\n",
              "      <td>DR</td>\n",
              "      <td>Male</td>\n",
              "      <td>27</td>\n",
              "      <td>0.0</td>\n",
              "    </tr>\n",
              "    <tr>\n",
              "      <th>1</th>\n",
              "      <td>10124</td>\n",
              "      <td>DR</td>\n",
              "      <td>Female</td>\n",
              "      <td>28</td>\n",
              "      <td>1.0</td>\n",
              "    </tr>\n",
              "    <tr>\n",
              "      <th>2</th>\n",
              "      <td>10126</td>\n",
              "      <td>MRI</td>\n",
              "      <td>Male</td>\n",
              "      <td>73</td>\n",
              "      <td>0.0</td>\n",
              "    </tr>\n",
              "    <tr>\n",
              "      <th>3</th>\n",
              "      <td>12456</td>\n",
              "      <td>DR</td>\n",
              "      <td>Female</td>\n",
              "      <td>61</td>\n",
              "      <td>1.0</td>\n",
              "    </tr>\n",
              "    <tr>\n",
              "      <th>4</th>\n",
              "      <td>16789</td>\n",
              "      <td>MRI</td>\n",
              "      <td>Male</td>\n",
              "      <td>45</td>\n",
              "      <td>0.0</td>\n",
              "    </tr>\n",
              "    <tr>\n",
              "      <th>5</th>\n",
              "      <td>13029</td>\n",
              "      <td>DR</td>\n",
              "      <td>Female</td>\n",
              "      <td>54</td>\n",
              "      <td>1.0</td>\n",
              "    </tr>\n",
              "    <tr>\n",
              "      <th>6</th>\n",
              "      <td>10235</td>\n",
              "      <td>MRI</td>\n",
              "      <td>Male</td>\n",
              "      <td>18</td>\n",
              "      <td>0.0</td>\n",
              "    </tr>\n",
              "    <tr>\n",
              "      <th>7</th>\n",
              "      <td>90381</td>\n",
              "      <td>MRI</td>\n",
              "      <td>Female</td>\n",
              "      <td>34</td>\n",
              "      <td>0.0</td>\n",
              "    </tr>\n",
              "    <tr>\n",
              "      <th>8</th>\n",
              "      <td>11023</td>\n",
              "      <td>DR</td>\n",
              "      <td>Male</td>\n",
              "      <td>46</td>\n",
              "      <td>0.0</td>\n",
              "    </tr>\n",
              "    <tr>\n",
              "      <th>9</th>\n",
              "      <td>12058</td>\n",
              "      <td>MRI</td>\n",
              "      <td>Female</td>\n",
              "      <td>81</td>\n",
              "      <td>1.0</td>\n",
              "    </tr>\n",
              "  </tbody>\n",
              "</table>\n",
              "</div>\n",
              "      <button class=\"colab-df-convert\" onclick=\"convertToInteractive('df-f7a75b04-8f6e-4976-a2dd-207a3ad40e79')\"\n",
              "              title=\"Convert this dataframe to an interactive table.\"\n",
              "              style=\"display:none;\">\n",
              "        \n",
              "  <svg xmlns=\"http://www.w3.org/2000/svg\" height=\"24px\"viewBox=\"0 0 24 24\"\n",
              "       width=\"24px\">\n",
              "    <path d=\"M0 0h24v24H0V0z\" fill=\"none\"/>\n",
              "    <path d=\"M18.56 5.44l.94 2.06.94-2.06 2.06-.94-2.06-.94-.94-2.06-.94 2.06-2.06.94zm-11 1L8.5 8.5l.94-2.06 2.06-.94-2.06-.94L8.5 2.5l-.94 2.06-2.06.94zm10 10l.94 2.06.94-2.06 2.06-.94-2.06-.94-.94-2.06-.94 2.06-2.06.94z\"/><path d=\"M17.41 7.96l-1.37-1.37c-.4-.4-.92-.59-1.43-.59-.52 0-1.04.2-1.43.59L10.3 9.45l-7.72 7.72c-.78.78-.78 2.05 0 2.83L4 21.41c.39.39.9.59 1.41.59.51 0 1.02-.2 1.41-.59l7.78-7.78 2.81-2.81c.8-.78.8-2.07 0-2.86zM5.41 20L4 18.59l7.72-7.72 1.47 1.35L5.41 20z\"/>\n",
              "  </svg>\n",
              "      </button>\n",
              "      \n",
              "  <style>\n",
              "    .colab-df-container {\n",
              "      display:flex;\n",
              "      flex-wrap:wrap;\n",
              "      gap: 12px;\n",
              "    }\n",
              "\n",
              "    .colab-df-convert {\n",
              "      background-color: #E8F0FE;\n",
              "      border: none;\n",
              "      border-radius: 50%;\n",
              "      cursor: pointer;\n",
              "      display: none;\n",
              "      fill: #1967D2;\n",
              "      height: 32px;\n",
              "      padding: 0 0 0 0;\n",
              "      width: 32px;\n",
              "    }\n",
              "\n",
              "    .colab-df-convert:hover {\n",
              "      background-color: #E2EBFA;\n",
              "      box-shadow: 0px 1px 2px rgba(60, 64, 67, 0.3), 0px 1px 3px 1px rgba(60, 64, 67, 0.15);\n",
              "      fill: #174EA6;\n",
              "    }\n",
              "\n",
              "    [theme=dark] .colab-df-convert {\n",
              "      background-color: #3B4455;\n",
              "      fill: #D2E3FC;\n",
              "    }\n",
              "\n",
              "    [theme=dark] .colab-df-convert:hover {\n",
              "      background-color: #434B5C;\n",
              "      box-shadow: 0px 1px 3px 1px rgba(0, 0, 0, 0.15);\n",
              "      filter: drop-shadow(0px 1px 2px rgba(0, 0, 0, 0.3));\n",
              "      fill: #FFFFFF;\n",
              "    }\n",
              "  </style>\n",
              "\n",
              "      <script>\n",
              "        const buttonEl =\n",
              "          document.querySelector('#df-f7a75b04-8f6e-4976-a2dd-207a3ad40e79 button.colab-df-convert');\n",
              "        buttonEl.style.display =\n",
              "          google.colab.kernel.accessAllowed ? 'block' : 'none';\n",
              "\n",
              "        async function convertToInteractive(key) {\n",
              "          const element = document.querySelector('#df-f7a75b04-8f6e-4976-a2dd-207a3ad40e79');\n",
              "          const dataTable =\n",
              "            await google.colab.kernel.invokeFunction('convertToInteractive',\n",
              "                                                     [key], {});\n",
              "          if (!dataTable) return;\n",
              "\n",
              "          const docLinkHtml = 'Like what you see? Visit the ' +\n",
              "            '<a target=\"_blank\" href=https://colab.research.google.com/notebooks/data_table.ipynb>data table notebook</a>'\n",
              "            + ' to learn more about interactive tables.';\n",
              "          element.innerHTML = '';\n",
              "          dataTable['output_type'] = 'display_data';\n",
              "          await google.colab.output.renderOutput(dataTable, element);\n",
              "          const docLink = document.createElement('div');\n",
              "          docLink.innerHTML = docLinkHtml;\n",
              "          element.appendChild(docLink);\n",
              "        }\n",
              "      </script>\n",
              "    </div>\n",
              "  </div>\n",
              "  "
            ],
            "text/plain": [
              "   PatientID Modality  Gender  Age  Selected\n",
              "0      10123       DR    Male   27       0.0\n",
              "1      10124       DR  Female   28       1.0\n",
              "2      10126      MRI    Male   73       0.0\n",
              "3      12456       DR  Female   61       1.0\n",
              "4      16789      MRI    Male   45       0.0\n",
              "5      13029       DR  Female   54       1.0\n",
              "6      10235      MRI    Male   18       0.0\n",
              "7      90381      MRI  Female   34       0.0\n",
              "8      11023       DR    Male   46       0.0\n",
              "9      12058      MRI  Female   81       1.0"
            ]
          },
          "execution_count": 43,
          "metadata": {},
          "output_type": "execute_result"
        }
      ],
      "source": [
        "sample_df.loc[\n",
        "    (sample_df[\"Gender\"] == \"Female\")\n",
        "    & ((sample_df[\"Age\"] > 40) | (sample_df[\"Age\"] < 30)),\n",
        "    \"Selected\",\n",
        "] = 1\n",
        "sample_df.loc[(sample_df[\"Selected\"] != 1), \"Selected\"] = 0\n",
        "sample_df"
      ]
    },
    {
      "cell_type": "markdown",
      "metadata": {
        "id": "Suq9mteP2fQ_"
      },
      "source": [
        "As you see, we use the `.loc[]` method and pass the row mask as the first argument and the intended column as the second argument. We then set a value to be assigned to this `.loc[]` statement."
      ]
    },
    {
      "cell_type": "markdown",
      "metadata": {
        "id": "IKRMg7B9B3aW"
      },
      "source": [
        "---\n",
        "\n",
        "\n",
        "> **Exercise 6**: Update the *Selected* column to `1` for female patients with MRI, `2` for male patients with MRI, and `0` for the rest of the patients.\n",
        "\n",
        "\n",
        "---"
      ]
    },
    {
      "cell_type": "markdown",
      "metadata": {
        "id": "KySwA-T-B13P"
      },
      "source": [
        "Now that we have made some changes to our dataframe, let's save it:"
      ]
    },
    {
      "cell_type": "code",
      "execution_count": null,
      "metadata": {
        "id": "qhbuD84S-yC8"
      },
      "outputs": [],
      "source": [
        "sample_df.to_csv(\n",
        "    \"new_sample_csv.csv\", index=False\n",
        ")  # for saving to csv format; we set index=False in order to not save the index column\n",
        "sample_df.to_excel(\n",
        "    \"new_sample_xlsx.xlsx\", index=False\n",
        ")  # for saving to excel format; we set index=False in order to not save the index column"
      ]
    },
    {
      "cell_type": "markdown",
      "metadata": {
        "id": "XxzVya4w_or1"
      },
      "source": [
        "After saving our dataframe we can proceed to the last part of this chapter!"
      ]
    },
    {
      "cell_type": "markdown",
      "metadata": {
        "id": "M5Wzr5FDkHsu"
      },
      "source": [
        "# 5. **Integrated Terminal**"
      ]
    },
    {
      "cell_type": "markdown",
      "metadata": {
        "id": "3rL2fFg-kOTU"
      },
      "source": [
        "As you saw, there are some instances where you must switch to a terminal window to install a package or change the directory. But there are two tricks that can help you access the terminal directly from the notebook cells.\n",
        "\n",
        "You can create a code cell and type `!` and the terminal command you want to execute in that cell and run it. For example, the following command installs a package called \"*tqdm*\". *tqdm* is a package for showing progress bars in python. We will use it in future chapters of this series."
      ]
    },
    {
      "cell_type": "code",
      "execution_count": null,
      "metadata": {
        "colab": {
          "base_uri": "https://localhost:8080/"
        },
        "id": "yJV-qTIAD-mI",
        "outputId": "7f393f33-4c53-4246-aad0-37bbcf0896d6"
      },
      "outputs": [
        {
          "name": "stdout",
          "output_type": "stream",
          "text": [
            "Requirement already satisfied: tqdm in /usr/local/lib/python3.7/dist-packages (4.62.3)\n"
          ]
        }
      ],
      "source": [
        "!pip install tqdm"
      ]
    },
    {
      "cell_type": "markdown",
      "metadata": {
        "id": "BlsgfD2TEDHQ"
      },
      "source": [
        "You just installed this package without leaving our notebook! Let's see another example:"
      ]
    },
    {
      "cell_type": "code",
      "execution_count": null,
      "metadata": {
        "colab": {
          "base_uri": "https://localhost:8080/"
        },
        "id": "6CekcCYuENcA",
        "outputId": "2dc40750-d74e-40e1-a0e5-c0a0d0814675"
      },
      "outputs": [
        {
          "name": "stdout",
          "output_type": "stream",
          "text": [
            "age_meter.pickle    new_sample_xlsx.xlsx  sample_image_small.png\n",
            "drive\t\t    sample_cxr.jpg\t  sample_spreadsheet.excel\n",
            "new_sample_csv.csv  sample_data\n"
          ]
        }
      ],
      "source": [
        "!ls"
      ]
    },
    {
      "cell_type": "markdown",
      "metadata": {
        "id": "JStBSwQaEPBI"
      },
      "source": [
        "`ls` is a terminal command that shows the files in your current working directory. By default, when you start your local jupyter notebook the current working directory is set to the folder in which your notebook is located. For colab notebooks, it is set to \"*/content*\". You can check your current working directory using:"
      ]
    },
    {
      "cell_type": "code",
      "execution_count": null,
      "metadata": {
        "colab": {
          "base_uri": "https://localhost:8080/"
        },
        "id": "dwd8HkrHFCqF",
        "outputId": "d589d549-8838-4e0d-d683-c9449d46f1f9"
      },
      "outputs": [
        {
          "name": "stdout",
          "output_type": "stream",
          "text": [
            "/content\n"
          ]
        }
      ],
      "source": [
        "!pwd     # linux/macOS; short for print working directory\n",
        "!cd      # windows; short for change directory"
      ]
    },
    {
      "cell_type": "markdown",
      "metadata": {
        "id": "qYJOdINcFavV"
      },
      "source": [
        "This working directory is very important because all your paths must be relative to this directory or your code will not work. Imagine your project structure is like this:\n",
        "\n",
        "```\n",
        "+ MIDEL Project\n",
        "------ + Images\n",
        "------------ image1.png\n",
        "------------ image2.png\n",
        "------------ ...\n",
        "------ + Notebooks\n",
        "------------ training.ipynb\n",
        "```\n",
        "\n",
        "If your current working directory is `/MIDEL Project/Notebooks`, then you should open your images using a path like `../Images/image1.png` *(`../` means go up one level)*. But if your working directory is `/MIDEL Project` your image paths would be `./Images/image1.png` *(`./` means start from the current working directory)*.\n",
        "\n",
        "To change your current working directory, you can use **magic commands**. Magic commands are specific to notebooks and can be easily recognized as they start with `%`. You can find a list of all magic commands in *Part 6* of this chapter. We will mostly work with only a couple of them.\n",
        "\n",
        "You can use `%cd` to change to the current working directory of your notebook:"
      ]
    },
    {
      "cell_type": "code",
      "execution_count": null,
      "metadata": {
        "colab": {
          "base_uri": "https://localhost:8080/"
        },
        "id": "9I9ITUQHPJGS",
        "outputId": "b937fce6-2f9c-429f-b374-1b49bcbbf60a"
      },
      "outputs": [
        {
          "name": "stdout",
          "output_type": "stream",
          "text": [
            "/\n"
          ]
        }
      ],
      "source": [
        "%cd ../"
      ]
    },
    {
      "cell_type": "markdown",
      "metadata": {
        "id": "KzA1hl20PWEM"
      },
      "source": [
        "You can see that the new working directory is shown to you after executing the cell. You can also check it again using `!pwd` or `!cd' *(if using windows)*."
      ]
    },
    {
      "cell_type": "markdown",
      "metadata": {
        "id": "XlWCaRiYO4dg"
      },
      "source": [
        "---\n",
        "\n",
        "\n",
        "> **Exercise 7**: After changing your working directory, try to display the *sample_cxr.jpg* image that you downloaded earlier.\n",
        "\n",
        "\n",
        "---"
      ]
    },
    {
      "cell_type": "markdown",
      "metadata": {
        "id": "Lm0pkkipP50t"
      },
      "source": [
        "One more magic command we want to use in our code is:\n",
        "\n",
        "```\n",
        "%matplotlib inline\n",
        "```\n",
        "\n",
        "This command is usually put after importing matplotlib and makes graphs and images display properly in a notebook environment."
      ]
    },
    {
      "cell_type": "markdown",
      "metadata": {
        "id": "TChVRCHH905P"
      },
      "source": [
        "# 6. **Summary and Further Reading**"
      ]
    },
    {
      "cell_type": "markdown",
      "metadata": {
        "id": "oA3Vdm9e9-cn"
      },
      "source": [
        "In this chapter, we reviewed the advantages of Colab notebooks and learned how to code in them. To consolidate your understanding of the notebook environment and especially Colab notebooks, you can read [this tutorial](https://www.tutorialspoint.com/google_colab/index.htm).\n",
        "\n",
        "We also reviewed some Python coding practices and installed a couple of useful packages in our local environment. Here are some of the resources that we think might be helpful for further reading:\n",
        "\n",
        "*   [Python 3 documentation](https://docs.python.org/3/): This contains a tutorial, language reference, and other resources from the official Python website.\n",
        "\n",
        "*   [Python 4 Everyone (PY4E)](https://www.py4e.com/book): This is a free book that explains Python 3 functionalities with examples and practical challenges.\n",
        "\n",
        "*   [Python for Data Analysis](https://www.oreilly.com/library/view/python-for-data/9781449323592/): This is a book from the creator of Pandas that goes through details of how to better use Numpy and Pandas for data analysis.\n",
        "\n",
        "\n",
        "*   [Conda Cheatsheet](https://docs.conda.io/projects/conda/en/4.6.0/_downloads/52a95608c49671267e40c689e0bc00ca/conda-cheatsheet.pdf): A 2-page list of all you can do with conda.\n",
        "\n",
        "*   [Notebook Magic Commands](https://ipython.readthedocs.io/en/stable/interactive/magics.html): Complete list of magic commands that can be used in jupyter and colab notebooks.\n",
        "\n",
        "\n",
        "`TO BE COMPLETED...`"
      ]
    },
    {
      "cell_type": "markdown",
      "metadata": {
        "id": "0iLNA9Z4JO1X"
      },
      "source": [
        "---\n",
        "\n",
        "##***Feedback***\n",
        "\n",
        "*Now that you have completed this chapter, we would be very grateful if you spend a few minutes of your time to answer a short survey about this chapter. We highly value your feedback and will do our best to leverage this to improve our educational content and/or strategies.*\n",
        "\n",
        "[Click here to begin the survey!](https://docs.google.com/forms/d/e/1FAIpQLSddhdaAmeHmrKKRNXCLIQH6_mnIC3KR7XlDIVWGt3FSQhPDhQ/viewform)"
      ]
    }
  ],
  "metadata": {
    "accelerator": "GPU",
    "colab": {
      "name": "Section 4: First Steps to Writing Your First Python Program.ipynb",
      "provenance": []
    },
    "kernelspec": {
      "display_name": "base",
      "language": "python",
      "name": "python3"
    },
    "language_info": {
      "codemirror_mode": {
        "name": "ipython",
        "version": 3
      },
      "file_extension": ".py",
      "mimetype": "text/x-python",
      "name": "python",
      "nbconvert_exporter": "python",
      "pygments_lexer": "ipython3",
      "version": "3.9.13"
    }
  },
  "nbformat": 4,
  "nbformat_minor": 0
}